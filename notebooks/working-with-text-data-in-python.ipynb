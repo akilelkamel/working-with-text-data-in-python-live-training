{
  "nbformat": 4,
  "nbformat_minor": 0,
  "metadata": {
    "kernelspec": {
      "display_name": "Python 3",
      "language": "python",
      "name": "python3"
    },
    "language_info": {
      "codemirror_mode": {
        "name": "ipython",
        "version": 3
      },
      "file_extension": ".py",
      "mimetype": "text/x-python",
      "name": "python",
      "nbconvert_exporter": "python",
      "pygments_lexer": "ipython3",
      "version": "3.7.4"
    },
    "colab": {
      "name": "working-with-text-data-in-python.ipynb",
      "provenance": []
    }
  },
  "cells": [
    {
      "cell_type": "markdown",
      "metadata": {
        "id": "c7Ptn0A2jq9Y",
        "colab_type": "text"
      },
      "source": [
        "<p align=\"center\">\n",
        "<img src=\"https://github.com/datacamp/python-live-training-template/blob/master/assets/datacamp.svg?raw=True\" alt = \"DataCamp icon\" width=\"50%\">\n",
        "</p>\n",
        "<br><br>\n",
        "\n",
        "# **Working with Text Data in Python**\n",
        "\n",
        "Welcome to this hands-on training where you will beging to learn how to work with text data in Python! We will primarily use `pandas` string methods in this training, but will also use some `matplotlib` for visualization. In this session you will learn:\n",
        "\n",
        "- How to explore and visualize your text data.\n",
        "- How to manipulate and clean text data for further analysis.\n",
        "- The basics of regex, and how to use it to filter a DataFrame.\n",
        "- How to use prepare a template that is easily reusable.\n",
        "\n",
        "## **The Dataset**\n",
        "\n",
        "The dataset to be used in this webinar is a CSV file named `wine_reviews.csv`, which contains data on wine reviews. In particular, it contains the following columns:\n",
        "\n",
        "### Columns:\n",
        "\n",
        "`country`: The country that the wine is from\n",
        "\n",
        "`description`: The review.\n",
        "\n",
        "`designation`: The vineyard within the winery.\n",
        "\n",
        "`points`: The number of points awarded to the wine on a scale from 1-100.\n",
        "\n",
        "`province`: The province or state where the wine originated from.\n",
        "\n",
        "`region`: The wine growing area within the province or state.\n",
        "\n",
        "`variety`: The type of grapes used to make the wine."
      ]
    },
    {
      "cell_type": "code",
      "metadata": {
        "id": "qC1nj_4Ijq9Z",
        "colab_type": "code",
        "colab": {
          "base_uri": "https://localhost:8080/",
          "height": 139
        },
        "outputId": "c34d6281-5918-4605-b93a-29959034cd5a"
      },
      "source": [
        "# Load packages\n",
        "import pandas as pd\n",
        "from wordcloud import WordCloud, STOPWORDS\n",
        "import matplotlib.pyplot as plt\n",
        "import seaborn as sns\n",
        "import re\n",
        "import nltk\n",
        "from nltk.tokenize import word_tokenize\n",
        "from nltk.stem import PorterStemmer, WordNetLemmatizer\n",
        "nltk.download('punkt')\n",
        "nltk.download('wordnet')\n",
        "from collections import Counter\n",
        "\n",
        "# Set pandas columns to display at max width\n",
        "pd.set_option('display.max_colwidth', None)\n",
        "\n",
        "# Set seaborn aesthetic features to pretty up our plots\n",
        "sns.set()"
      ],
      "execution_count": 1,
      "outputs": [
        {
          "output_type": "stream",
          "text": [
            "/usr/local/lib/python3.6/dist-packages/statsmodels/tools/_testing.py:19: FutureWarning: pandas.util.testing is deprecated. Use the functions in the public API at pandas.testing instead.\n",
            "  import pandas.util.testing as tm\n"
          ],
          "name": "stderr"
        },
        {
          "output_type": "stream",
          "text": [
            "[nltk_data] Downloading package punkt to /root/nltk_data...\n",
            "[nltk_data]   Unzipping tokenizers/punkt.zip.\n",
            "[nltk_data] Downloading package wordnet to /root/nltk_data...\n",
            "[nltk_data]   Unzipping corpora/wordnet.zip.\n"
          ],
          "name": "stdout"
        }
      ]
    },
    {
      "cell_type": "markdown",
      "metadata": {
        "id": "UHIC32FIjq9e",
        "colab_type": "text"
      },
      "source": [
        "## **Import wine data, and look at the first five rows**\n",
        "Let's first import the data which is stored in the csv `wine_reviews.csv` and inspect it. We will use:\n",
        "- `read_csv()` to read the csv file as a DataFrame.\n",
        "- `.head()` to view the first five rows."
      ]
    },
    {
      "cell_type": "code",
      "metadata": {
        "id": "qdpkNyHUjq9f",
        "colab_type": "code",
        "colab": {
          "base_uri": "https://localhost:8080/",
          "height": 425
        },
        "outputId": "f281bd2f-b054-4cb2-8d41-428e964431c4"
      },
      "source": [
        "# Read the csv and assign to the DataFrame 'wine_df'\n",
        "wine_df = pd.read_csv('https://github.com/datacamp/working-with-text-data-in-python-live-training/blob/master/data/wine_reviews.csv?raw=true')\n",
        "\n",
        "# View the first five rows\n"
      ],
      "execution_count": 2,
      "outputs": [
        {
          "output_type": "execute_result",
          "data": {
            "text/html": [
              "<div>\n",
              "<style scoped>\n",
              "    .dataframe tbody tr th:only-of-type {\n",
              "        vertical-align: middle;\n",
              "    }\n",
              "\n",
              "    .dataframe tbody tr th {\n",
              "        vertical-align: top;\n",
              "    }\n",
              "\n",
              "    .dataframe thead th {\n",
              "        text-align: right;\n",
              "    }\n",
              "</style>\n",
              "<table border=\"1\" class=\"dataframe\">\n",
              "  <thead>\n",
              "    <tr style=\"text-align: right;\">\n",
              "      <th></th>\n",
              "      <th>country</th>\n",
              "      <th>description</th>\n",
              "      <th>designation</th>\n",
              "      <th>points</th>\n",
              "      <th>price</th>\n",
              "      <th>province</th>\n",
              "      <th>region</th>\n",
              "      <th>variety</th>\n",
              "      <th>winery</th>\n",
              "    </tr>\n",
              "  </thead>\n",
              "  <tbody>\n",
              "    <tr>\n",
              "      <th>0</th>\n",
              "      <td>US</td>\n",
              "      <td>This tremendous 100% varietal wine hails from Oakville and was aged over three years in oak. Juicy red-cherry fruit and a compelling hint of caramel greet the palate, framed by elegant, fine tannins and a subtle minty tone in the background. Balanced and rewarding from start to finish, it has years ahead of it to develop further nuance. Enjoy 2022–2030.</td>\n",
              "      <td>Martha's Vineyard</td>\n",
              "      <td>96</td>\n",
              "      <td>235.0</td>\n",
              "      <td>California</td>\n",
              "      <td>Napa Valley</td>\n",
              "      <td>Cabernet sauvignon</td>\n",
              "      <td>Heitz</td>\n",
              "    </tr>\n",
              "    <tr>\n",
              "      <th>1</th>\n",
              "      <td>US</td>\n",
              "      <td>Mac Watson honors the memory of a wine once made by his mother in this tremendously delicious, balanced and complex botrytised white. Dark gold in color, it layers toasted hazelnut, pear compote and orange peel flavors, reveling in the succulence of its 122 g/L of residual sugar.</td>\n",
              "      <td>Special Selected Late Harvest</td>\n",
              "      <td>96</td>\n",
              "      <td>90.0</td>\n",
              "      <td>California</td>\n",
              "      <td>Knights Valley</td>\n",
              "      <td>sauvignon blanc</td>\n",
              "      <td>Macauley</td>\n",
              "    </tr>\n",
              "    <tr>\n",
              "      <th>2</th>\n",
              "      <td>US</td>\n",
              "      <td>This spent 20 months in 30% new French oak, and incorporates fruit from Ponzi's Aurora, Abetina and Madrona vineyards, among others. Aromatic, dense and toasty, it deftly blends aromas and flavors of toast, cigar box, blackberry, black cherry, coffee and graphite. Tannins are polished to a fine sheen, and frame a finish loaded with dark chocolate and espresso. Drink now through 2032.</td>\n",
              "      <td>Reserve</td>\n",
              "      <td>96</td>\n",
              "      <td>65.0</td>\n",
              "      <td>Oregon</td>\n",
              "      <td>Willamette Valley</td>\n",
              "      <td>PINOT NOIR</td>\n",
              "      <td>Ponzi</td>\n",
              "    </tr>\n",
              "    <tr>\n",
              "      <th>3</th>\n",
              "      <td>US</td>\n",
              "      <td>This re-named vineyard was formerly bottled as deLancellotti. You'll find striking minerality underscoring chunky black fruits. Accents of citrus and graphite comingle, with exceptional midpalate concentration. This is a wine to cellar, though it is already quite enjoyable. Drink now through 2030.</td>\n",
              "      <td>Silice</td>\n",
              "      <td>95</td>\n",
              "      <td>65.0</td>\n",
              "      <td>Oregon</td>\n",
              "      <td>Chehalem Mountains</td>\n",
              "      <td>Pinot noir</td>\n",
              "      <td>Bergström</td>\n",
              "    </tr>\n",
              "    <tr>\n",
              "      <th>4</th>\n",
              "      <td>US</td>\n",
              "      <td>The producer sources from two blocks of the vineyard for this wine—one at a high elevation, which contributes bright acidity. Crunchy cranberry, pomegranate and orange peel flavors surround silky, succulent layers of texture that present as fleshy fruit. That delicately lush flavor has considerable length.</td>\n",
              "      <td>Gap's Crown Vineyard</td>\n",
              "      <td>95</td>\n",
              "      <td>60.0</td>\n",
              "      <td>California</td>\n",
              "      <td>Sonoma Coast</td>\n",
              "      <td>Pinot  noir</td>\n",
              "      <td>Blue Farm</td>\n",
              "    </tr>\n",
              "  </tbody>\n",
              "</table>\n",
              "</div>"
            ],
            "text/plain": [
              "  country  ...     winery\n",
              "0      US  ...      Heitz\n",
              "1      US  ...   Macauley\n",
              "2      US  ...      Ponzi\n",
              "3      US  ...  Bergström\n",
              "4      US  ...  Blue Farm\n",
              "\n",
              "[5 rows x 9 columns]"
            ]
          },
          "metadata": {
            "tags": []
          },
          "execution_count": 2
        }
      ]
    },
    {
      "cell_type": "markdown",
      "metadata": {
        "id": "kNntcUwhjq9j",
        "colab_type": "text"
      },
      "source": [
        "**Observation:** It looks as though there are a variety of different cases in the `variety` column, which we will need to address later."
      ]
    },
    {
      "cell_type": "markdown",
      "metadata": {
        "id": "9M5qr02_jq9k",
        "colab_type": "text"
      },
      "source": [
        "**Further inspection of our data**\n",
        "---\n",
        "First, now that we have an idea how our data is structured, and a little bit about what it contains, let's dig into the details a bit more. To do so, we will use: \n",
        "- `.info()` method on the DataFrame to learn about the data types and missing values.\n",
        "- `.sort_values()` to reorder the DataFrame by a given series.\n",
        "- `.unique()` to access the unique values."
      ]
    },
    {
      "cell_type": "code",
      "metadata": {
        "id": "HUIEH9wUjq9l",
        "colab_type": "code",
        "colab": {
          "base_uri": "https://localhost:8080/",
          "height": 289
        },
        "outputId": "2f70f023-3321-4dbe-91ee-fd78e7c049cd"
      },
      "source": [
        "# Display key information about the DataFrame\n"
      ],
      "execution_count": 3,
      "outputs": [
        {
          "output_type": "stream",
          "text": [
            "<class 'pandas.core.frame.DataFrame'>\n",
            "RangeIndex: 4131 entries, 0 to 4130\n",
            "Data columns (total 9 columns):\n",
            " #   Column       Non-Null Count  Dtype  \n",
            "---  ------       --------------  -----  \n",
            " 0   country      4131 non-null   object \n",
            " 1   description  4131 non-null   object \n",
            " 2   designation  2792 non-null   object \n",
            " 3   points       4131 non-null   int64  \n",
            " 4   price        4131 non-null   float64\n",
            " 5   province     4131 non-null   object \n",
            " 6   region       4131 non-null   object \n",
            " 7   variety      4131 non-null   object \n",
            " 8   winery       4131 non-null   object \n",
            "dtypes: float64(1), int64(1), object(7)\n",
            "memory usage: 290.6+ KB\n"
          ],
          "name": "stdout"
        }
      ]
    },
    {
      "cell_type": "markdown",
      "metadata": {
        "id": "vlG_IbQ1jq9p",
        "colab_type": "text"
      },
      "source": [
        "**Observation:** The two numeric columns, points and price, are correctly specified as integers and floats. However, it appears as though there are a lot of missing values for the designation column, which specifies what winery the wine originated from."
      ]
    },
    {
      "cell_type": "code",
      "metadata": {
        "id": "5cREjQjJjq9p",
        "colab_type": "code",
        "colab": {
          "base_uri": "https://localhost:8080/",
          "height": 493
        },
        "outputId": "920375cc-2e65-4fbc-f1d7-5b33f621fd73"
      },
      "source": [
        "# Access the variety column, sort them alphabetically, and select only the unique values\n"
      ],
      "execution_count": 4,
      "outputs": [
        {
          "output_type": "execute_result",
          "data": {
            "text/plain": [
              "array([' BORDEAUX-STYLE RED BLEND', ' Bordeaux-style red blend',\n",
              "       ' CABERNET SAUVIGNON', ' CHARDONNAY', ' Cabernet sauvignon',\n",
              "       ' Chardonnay', ' MERLOT', ' Merlot', ' PINOT NOIR', ' Pinot noir',\n",
              "       ' RED BLEND', ' RIESLING', ' Red blend', ' Riesling',\n",
              "       ' SAUVIGNON BLANC', ' SYRAH', ' Sauvignon blanc', ' Syrah',\n",
              "       ' bordeaux-style red blend', ' cabernet sauvignon', ' chardonnay',\n",
              "       ' merlot', ' pinot noir', ' red blend', ' riesling',\n",
              "       ' sauvignon blanc', ' syrah', 'BORDEAUX-STYLE  RED  BLEND',\n",
              "       'BORDEAUX-STYLE RED BLEND', 'BORDEAUX-STYLE RED BLEND ',\n",
              "       'Bordeaux-style  red  blend', 'Bordeaux-style red blend',\n",
              "       'Bordeaux-style red blend ', 'CABERNET  SAUVIGNON',\n",
              "       'CABERNET SAUVIGNON', 'CABERNET SAUVIGNON ', 'CHARDONNAY',\n",
              "       'CHARDONNAY ', 'Cabernet  sauvignon', 'Cabernet sauvignon',\n",
              "       'Cabernet sauvignon ', 'Chardonnay', 'Chardonnay ', 'MERLOT',\n",
              "       'MERLOT ', 'Merlot', 'Merlot ', 'PINOT  NOIR', 'PINOT NOIR',\n",
              "       'PINOT NOIR ', 'Pinot  noir', 'Pinot noir', 'Pinot noir ',\n",
              "       'RED  BLEND', 'RED BLEND', 'RED BLEND ', 'RIESLING', 'RIESLING ',\n",
              "       'Red  blend', 'Red blend', 'Red blend ', 'Riesling', 'Riesling ',\n",
              "       'SAUVIGNON  BLANC', 'SAUVIGNON BLANC', 'SAUVIGNON BLANC ', 'SYRAH',\n",
              "       'SYRAH ', 'Sauvignon  blanc', 'Sauvignon blanc',\n",
              "       'Sauvignon blanc ', 'Syrah', 'Syrah ',\n",
              "       'bordeaux-style  red  blend', 'bordeaux-style red blend',\n",
              "       'bordeaux-style red blend ', 'cabernet  sauvignon',\n",
              "       'cabernet sauvignon', 'cabernet sauvignon ', 'chardonnay',\n",
              "       'chardonnay ', 'merlot', 'merlot ', 'pinot  noir', 'pinot noir',\n",
              "       'pinot noir ', 'red  blend', 'red blend', 'red blend ', 'riesling',\n",
              "       'riesling ', 'sauvignon  blanc', 'sauvignon blanc',\n",
              "       'sauvignon blanc ', 'syrah', 'syrah '], dtype=object)"
            ]
          },
          "metadata": {
            "tags": []
          },
          "execution_count": 4
        }
      ]
    },
    {
      "cell_type": "markdown",
      "metadata": {
        "id": "_j07za4Ujq9t",
        "colab_type": "text"
      },
      "source": [
        "**Observation:** Due to extra spaces and inconsistencies in case, there are many duplicate entries of wine varieties that we will need to address."
      ]
    },
    {
      "cell_type": "markdown",
      "metadata": {
        "id": "SxlY9Ytfjq9t",
        "colab_type": "text"
      },
      "source": [
        "## **Cleaning the data**\n",
        "As observed when exploring data, the `designation` column has missing values. One strategy to follow could be filling missing values with the name of the winery attached with `'- unknown'`. To fill out missing values, we can use the `.fillna()` method which takes in the following argument:\n",
        "- Here we will pass the `winery` series of our DataFrame, and then concatenate `- unknown`.\n",
        "- We will also use the `inplace` argument to apply this operation directly to our DataFrame.\n",
        "\n",
        "But first, let's go over string **concatenation**. In the example below, we join the word `\"the\"` with our `x` variable containing `\"winery\"`, and separate the two words by also adding a space (`\" \"`)."
      ]
    },
    {
      "cell_type": "code",
      "metadata": {
        "id": "AHXX6lJujq9u",
        "colab_type": "code",
        "colab": {
          "base_uri": "https://localhost:8080/",
          "height": 35
        },
        "outputId": "1c30db93-2485-418c-ac70-76364a50fc3c"
      },
      "source": [
        "# Create two variables storing the words of interest\n",
        "x = \"winery\"\n",
        "\n",
        "y = \"the\"\n",
        "\n",
        "# Combine the words with a space\n",
        "y + \" \" + x"
      ],
      "execution_count": null,
      "outputs": [
        {
          "output_type": "execute_result",
          "data": {
            "application/vnd.google.colaboratory.intrinsic": {
              "type": "string"
            },
            "text/plain": [
              "'the winery'"
            ]
          },
          "metadata": {
            "tags": []
          },
          "execution_count": 8
        }
      ]
    },
    {
      "cell_type": "code",
      "metadata": {
        "id": "sxudfmH4jq9x",
        "colab_type": "code",
        "colab": {
          "base_uri": "https://localhost:8080/",
          "height": 742
        },
        "outputId": "0280cdf1-1c66-4f3c-bfb4-7ad9dca8e0c5"
      },
      "source": [
        "# Fill our designation column with the name of the winery and 'unknown'\n",
        "\n",
        "\n",
        "# Sample the DataFrame to see the result\n"
      ],
      "execution_count": 8,
      "outputs": [
        {
          "output_type": "execute_result",
          "data": {
            "text/html": [
              "<div>\n",
              "<style scoped>\n",
              "    .dataframe tbody tr th:only-of-type {\n",
              "        vertical-align: middle;\n",
              "    }\n",
              "\n",
              "    .dataframe tbody tr th {\n",
              "        vertical-align: top;\n",
              "    }\n",
              "\n",
              "    .dataframe thead th {\n",
              "        text-align: right;\n",
              "    }\n",
              "</style>\n",
              "<table border=\"1\" class=\"dataframe\">\n",
              "  <thead>\n",
              "    <tr style=\"text-align: right;\">\n",
              "      <th></th>\n",
              "      <th>country</th>\n",
              "      <th>description</th>\n",
              "      <th>designation</th>\n",
              "      <th>points</th>\n",
              "      <th>price</th>\n",
              "      <th>province</th>\n",
              "      <th>region</th>\n",
              "      <th>variety</th>\n",
              "      <th>winery</th>\n",
              "    </tr>\n",
              "  </thead>\n",
              "  <tbody>\n",
              "    <tr>\n",
              "      <th>24</th>\n",
              "      <td>US</td>\n",
              "      <td>The aromas of blue fruit, herbs and spice are initially under tight restraint. The flavors are full, with the tannins simultaneously firm and fine grained. It shows good length.</td>\n",
              "      <td>Canvasback - unknown</td>\n",
              "      <td>90</td>\n",
              "      <td>40.0</td>\n",
              "      <td>Washington</td>\n",
              "      <td>Red Mountain</td>\n",
              "      <td>Cabernet sauvignon</td>\n",
              "      <td>Canvasback</td>\n",
              "    </tr>\n",
              "    <tr>\n",
              "      <th>25</th>\n",
              "      <td>France</td>\n",
              "      <td>This structured, complex Chardonnay is packed with minerality and considerable weight. The tight texture and almost tannic character will soften over the next few months. Full of potential, it's drinkable now but will be so much better from 2017.</td>\n",
              "      <td>Chartron et Trébuchet - unknown</td>\n",
              "      <td>90</td>\n",
              "      <td>68.0</td>\n",
              "      <td>Burgundy</td>\n",
              "      <td>Chassagne-Montrachet</td>\n",
              "      <td>chardonnay</td>\n",
              "      <td>Chartron et Trébuchet</td>\n",
              "    </tr>\n",
              "    <tr>\n",
              "      <th>28</th>\n",
              "      <td>US</td>\n",
              "      <td>There's a lot to like in this nicely priced white, a blend of several regional vineyards. A taste of hazelnut expands on the palate to meet creamy Tahitian vanilla. Approachably round, this crowd-pleasing wine finishes in measured, integrated oak.</td>\n",
              "      <td>De Loach - unknown</td>\n",
              "      <td>90</td>\n",
              "      <td>18.0</td>\n",
              "      <td>California</td>\n",
              "      <td>Russian River Valley</td>\n",
              "      <td>Chardonnay</td>\n",
              "      <td>De Loach</td>\n",
              "    </tr>\n",
              "    <tr>\n",
              "      <th>32</th>\n",
              "      <td>Australia</td>\n",
              "      <td>Moorooduc's estate Pinot Noir is a solid value among the boutique offerings from the Mornington Peninsula. There's a supple cushioning of flesh wrapped around a firm backbone of acid, while the flavors run from black cherry and mint through earthier notes of brown sugar and roasted parsnip. Drink now through 2020.</td>\n",
              "      <td>Moorooduc - unknown</td>\n",
              "      <td>91</td>\n",
              "      <td>36.0</td>\n",
              "      <td>Victoria</td>\n",
              "      <td>Mornington Peninsula</td>\n",
              "      <td>Pinot  noir</td>\n",
              "      <td>Moorooduc</td>\n",
              "    </tr>\n",
              "    <tr>\n",
              "      <th>40</th>\n",
              "      <td>US</td>\n",
              "      <td>This wine draws from a handful of tremendous vineyard sites, including the producer's estate, Platt and Clary Ranch, all cool-climate and windswept. It's a tight, light and minimally messed-with wine, bright in cherry, pomegranate and rose.</td>\n",
              "      <td>Red Car - unknown</td>\n",
              "      <td>91</td>\n",
              "      <td>45.0</td>\n",
              "      <td>California</td>\n",
              "      <td>Sonoma Coast</td>\n",
              "      <td>PINOT NOIR</td>\n",
              "      <td>Red Car</td>\n",
              "    </tr>\n",
              "    <tr>\n",
              "      <th>...</th>\n",
              "      <td>...</td>\n",
              "      <td>...</td>\n",
              "      <td>...</td>\n",
              "      <td>...</td>\n",
              "      <td>...</td>\n",
              "      <td>...</td>\n",
              "      <td>...</td>\n",
              "      <td>...</td>\n",
              "      <td>...</td>\n",
              "    </tr>\n",
              "    <tr>\n",
              "      <th>4125</th>\n",
              "      <td>US</td>\n",
              "      <td>This is a very watery, almost scentless wine, with hints of golden apples on the nose. The palate is also lacking, showing slight pears and nectarines. The DIY label is a cute gimmick though.</td>\n",
              "      <td>Scratchpad - unknown</td>\n",
              "      <td>82</td>\n",
              "      <td>13.0</td>\n",
              "      <td>California</td>\n",
              "      <td>Central Coast</td>\n",
              "      <td>SAUVIGNON BLANC</td>\n",
              "      <td>Scratchpad</td>\n",
              "    </tr>\n",
              "    <tr>\n",
              "      <th>4126</th>\n",
              "      <td>Spain</td>\n",
              "      <td>This Riesling smells slightly tropical but more like grass and asparagus. A linear body is propped up by lemony acidity, while flavors of lemon peel, tangerine and lees finish citric. Overall, this smells and tastes nothing like the Riesling most people know.</td>\n",
              "      <td>Cristiari - unknown</td>\n",
              "      <td>82</td>\n",
              "      <td>20.0</td>\n",
              "      <td>Catalonia</td>\n",
              "      <td>Costers del Segre</td>\n",
              "      <td>RIESLING</td>\n",
              "      <td>Cristiari</td>\n",
              "    </tr>\n",
              "    <tr>\n",
              "      <th>4127</th>\n",
              "      <td>Spain</td>\n",
              "      <td>Chunky aromas of hay and mealy stone fruits are acceptable. This Sauvignon Blanc has a melony, creamy palate and mealy flavors of melon and papaya that match the bouquet. A yeasty, undefined finish indicates this is past its prime.</td>\n",
              "      <td>Trencalòs - unknown</td>\n",
              "      <td>82</td>\n",
              "      <td>10.0</td>\n",
              "      <td>Central Spain</td>\n",
              "      <td>Vino de la Tierra de Castilla</td>\n",
              "      <td>SAUVIGNON BLANC</td>\n",
              "      <td>Trencalòs</td>\n",
              "    </tr>\n",
              "    <tr>\n",
              "      <th>4128</th>\n",
              "      <td>US</td>\n",
              "      <td>Sturdy and basic, this Pinot Noir has vegetal aromas, modest fruit flavors, and a dry, lean texture. Aromas suggest tomato and herbs, while flavors are more rich.</td>\n",
              "      <td>Camelot - unknown</td>\n",
              "      <td>82</td>\n",
              "      <td>7.0</td>\n",
              "      <td>California</td>\n",
              "      <td>California</td>\n",
              "      <td>Pinot noir</td>\n",
              "      <td>Camelot</td>\n",
              "    </tr>\n",
              "    <tr>\n",
              "      <th>4129</th>\n",
              "      <td>US</td>\n",
              "      <td>The nose on this wine is a bit flat, showing hints of cherry, cola and iron. The palate is not varietally typical, with tarry and sour red fruits, and quite a bit of textural grip.</td>\n",
              "      <td>Consilience - unknown</td>\n",
              "      <td>82</td>\n",
              "      <td>30.0</td>\n",
              "      <td>California</td>\n",
              "      <td>Santa Barbara County</td>\n",
              "      <td>Pinot noir</td>\n",
              "      <td>Consilience</td>\n",
              "    </tr>\n",
              "  </tbody>\n",
              "</table>\n",
              "<p>1339 rows × 9 columns</p>\n",
              "</div>"
            ],
            "text/plain": [
              "        country  ...                 winery\n",
              "24           US  ...             Canvasback\n",
              "25       France  ...  Chartron et Trébuchet\n",
              "28           US  ...               De Loach\n",
              "32    Australia  ...              Moorooduc\n",
              "40           US  ...                Red Car\n",
              "...         ...  ...                    ...\n",
              "4125         US  ...             Scratchpad\n",
              "4126      Spain  ...              Cristiari\n",
              "4127      Spain  ...              Trencalòs\n",
              "4128         US  ...                Camelot\n",
              "4129         US  ...            Consilience\n",
              "\n",
              "[1339 rows x 9 columns]"
            ]
          },
          "metadata": {
            "tags": []
          },
          "execution_count": 8
        }
      ]
    },
    {
      "cell_type": "code",
      "metadata": {
        "id": "Oqb2FoP4jq91",
        "colab_type": "code",
        "colab": {
          "base_uri": "https://localhost:8080/",
          "height": 289
        },
        "outputId": "4ef27647-477b-437d-8839-d571993f510d"
      },
      "source": [
        "# Use .info() again to ensure that we have no more missing values\n"
      ],
      "execution_count": 9,
      "outputs": [
        {
          "output_type": "stream",
          "text": [
            "<class 'pandas.core.frame.DataFrame'>\n",
            "RangeIndex: 4131 entries, 0 to 4130\n",
            "Data columns (total 9 columns):\n",
            " #   Column       Non-Null Count  Dtype  \n",
            "---  ------       --------------  -----  \n",
            " 0   country      4131 non-null   object \n",
            " 1   description  4131 non-null   object \n",
            " 2   designation  4131 non-null   object \n",
            " 3   points       4131 non-null   int64  \n",
            " 4   price        4131 non-null   float64\n",
            " 5   province     4131 non-null   object \n",
            " 6   region       4131 non-null   object \n",
            " 7   variety      4131 non-null   object \n",
            " 8   winery       4131 non-null   object \n",
            "dtypes: float64(1), int64(1), object(7)\n",
            "memory usage: 290.6+ KB\n"
          ],
          "name": "stdout"
        }
      ]
    },
    {
      "cell_type": "markdown",
      "metadata": {
        "id": "hZq_ddQWjq96",
        "colab_type": "text"
      },
      "source": [
        "**Observation:** Currently, there are a number of location attributes scattered across columns. While it is useful to have them separately, let's also make a column that combines this data into a useful `location` column. \n",
        "\n",
        "In particular, let's take the first three characters of the `country` name, and then combine them with the `region`. To do so, we will use:\n",
        "- String concatenation, which we used earlier.\n",
        "- The `.str.upper()` method, which returns an uppercase version of the string.\n",
        "- String indexing (which we will go over below):"
      ]
    },
    {
      "cell_type": "code",
      "metadata": {
        "id": "GKvVHBIhjq96",
        "colab_type": "code",
        "colab": {
          "base_uri": "https://localhost:8080/",
          "height": 35
        },
        "outputId": "b78483d1-d2ac-4aa5-dede-d805b8de6034"
      },
      "source": [
        "# Print out the first letter of x (which is storing 'winery')\n",
        "x[0]"
      ],
      "execution_count": null,
      "outputs": [
        {
          "output_type": "execute_result",
          "data": {
            "application/vnd.google.colaboratory.intrinsic": {
              "type": "string"
            },
            "text/plain": [
              "'w'"
            ]
          },
          "metadata": {
            "tags": []
          },
          "execution_count": 11
        }
      ]
    },
    {
      "cell_type": "code",
      "metadata": {
        "id": "_EmcybHVjq99",
        "colab_type": "code",
        "colab": {
          "base_uri": "https://localhost:8080/",
          "height": 35
        },
        "outputId": "2bff583e-d4ae-44c5-eb66-561459d76365"
      },
      "source": [
        "# Print out the first four letters\n",
        "x[:4]"
      ],
      "execution_count": null,
      "outputs": [
        {
          "output_type": "execute_result",
          "data": {
            "application/vnd.google.colaboratory.intrinsic": {
              "type": "string"
            },
            "text/plain": [
              "'wine'"
            ]
          },
          "metadata": {
            "tags": []
          },
          "execution_count": 18
        }
      ]
    },
    {
      "cell_type": "code",
      "metadata": {
        "id": "mWQxSZJjjq-A",
        "colab_type": "code",
        "colab": {
          "base_uri": "https://localhost:8080/",
          "height": 35
        },
        "outputId": "632585af-1202-4d95-dbbc-79eed7a59c42"
      },
      "source": [
        "# Print from the fourth letter until the end\n",
        "x[4:]"
      ],
      "execution_count": null,
      "outputs": [
        {
          "output_type": "execute_result",
          "data": {
            "application/vnd.google.colaboratory.intrinsic": {
              "type": "string"
            },
            "text/plain": [
              "'ry'"
            ]
          },
          "metadata": {
            "tags": []
          },
          "execution_count": 19
        }
      ]
    },
    {
      "cell_type": "code",
      "metadata": {
        "id": "72uIkCkOjq-D",
        "colab_type": "code",
        "colab": {
          "base_uri": "https://localhost:8080/",
          "height": 442
        },
        "outputId": "a1acd46d-ed27-4d9f-d42e-00bbedaf0db1"
      },
      "source": [
        "# Create a location column, and assign to it the region, \n",
        "# a hyphen, and the first two characters of the country column in upper case\n",
        "wine_df['location'] = wine_df['region'] + \" - \" + wine_df['country'].str[0:3].str.upper()\n",
        "\n",
        "# Check our data with a random sample\n",
        "wine_df.sample(5)"
      ],
      "execution_count": 15,
      "outputs": [
        {
          "output_type": "execute_result",
          "data": {
            "text/html": [
              "<div>\n",
              "<style scoped>\n",
              "    .dataframe tbody tr th:only-of-type {\n",
              "        vertical-align: middle;\n",
              "    }\n",
              "\n",
              "    .dataframe tbody tr th {\n",
              "        vertical-align: top;\n",
              "    }\n",
              "\n",
              "    .dataframe thead th {\n",
              "        text-align: right;\n",
              "    }\n",
              "</style>\n",
              "<table border=\"1\" class=\"dataframe\">\n",
              "  <thead>\n",
              "    <tr style=\"text-align: right;\">\n",
              "      <th></th>\n",
              "      <th>country</th>\n",
              "      <th>description</th>\n",
              "      <th>designation</th>\n",
              "      <th>points</th>\n",
              "      <th>price</th>\n",
              "      <th>province</th>\n",
              "      <th>region</th>\n",
              "      <th>variety</th>\n",
              "      <th>winery</th>\n",
              "      <th>location</th>\n",
              "    </tr>\n",
              "  </thead>\n",
              "  <tbody>\n",
              "    <tr>\n",
              "      <th>2588</th>\n",
              "      <td>France</td>\n",
              "      <td>This ripe, fruity and structured wine is still young and the tannins need time to round out. However, it is already rich, with juicy red fruits and a core of fragrant acidity. The wine is dense and worth aging. Drink from 2017.</td>\n",
              "      <td>Réserve</td>\n",
              "      <td>88</td>\n",
              "      <td>13.0</td>\n",
              "      <td>Southwest France</td>\n",
              "      <td>Côtes de Bergerac</td>\n",
              "      <td>bordeaux-style  red  blend</td>\n",
              "      <td>Château Bélingard</td>\n",
              "      <td>Côtes de Bergerac - FRA</td>\n",
              "    </tr>\n",
              "    <tr>\n",
              "      <th>808</th>\n",
              "      <td>US</td>\n",
              "      <td>From the winery's most pebbly five-acre section of vineyard atop Diamond Mountain, this is dark black-purple in color. The tannins are soft but powerful, eager to age through 2025–2027, while the fruit lies on the currant and plum side of things, with a bit of cedar lurking through.</td>\n",
              "      <td>Gravelly Meadow</td>\n",
              "      <td>91</td>\n",
              "      <td>200.0</td>\n",
              "      <td>California</td>\n",
              "      <td>Napa Valley</td>\n",
              "      <td>CABERNET SAUVIGNON</td>\n",
              "      <td>Diamond Creek</td>\n",
              "      <td>Napa Valley - US</td>\n",
              "    </tr>\n",
              "    <tr>\n",
              "      <th>3631</th>\n",
              "      <td>US</td>\n",
              "      <td>Coming from a San Benito County appellation created in 2008, this wine shows dried blueberry, blackberry, leather and earthy black loam on the nose. Blueberry comes through on the palate, boosted by pepper, tobacco and a bit of espresso.</td>\n",
              "      <td>Donati - unknown</td>\n",
              "      <td>85</td>\n",
              "      <td>25.0</td>\n",
              "      <td>California</td>\n",
              "      <td>Paicines</td>\n",
              "      <td>MERLOT</td>\n",
              "      <td>Donati</td>\n",
              "      <td>Paicines - US</td>\n",
              "    </tr>\n",
              "    <tr>\n",
              "      <th>2412</th>\n",
              "      <td>US</td>\n",
              "      <td>A big-boned wine with a juicy midpalate, this round, plush expression of the variety offers welcome layers of dark cherry, raspberry and plum nicely accentuated with clove and sage.</td>\n",
              "      <td>AuburnJames - unknown</td>\n",
              "      <td>90</td>\n",
              "      <td>75.0</td>\n",
              "      <td>California</td>\n",
              "      <td>Napa Valley</td>\n",
              "      <td>Cabernet sauvignon</td>\n",
              "      <td>AuburnJames</td>\n",
              "      <td>Napa Valley - US</td>\n",
              "    </tr>\n",
              "    <tr>\n",
              "      <th>531</th>\n",
              "      <td>US</td>\n",
              "      <td>A blend of fruit from Watermill, Funk, Lewis and Anna Marie vineyards, the aromas bring vibrant notes of flowers, ham hock, berry, tapenade, herb and ember. The palate is plush yet elegant and silky in feel, showing an exquisite mix of fruit and savory flavors along with outrageous hang time on the finish. It shows a lot of subtlety.</td>\n",
              "      <td>Saviah - unknown</td>\n",
              "      <td>93</td>\n",
              "      <td>32.0</td>\n",
              "      <td>Washington</td>\n",
              "      <td>Walla Walla Valley (WA)</td>\n",
              "      <td>Syrah</td>\n",
              "      <td>Saviah</td>\n",
              "      <td>Walla Walla Valley (WA) - US</td>\n",
              "    </tr>\n",
              "  </tbody>\n",
              "</table>\n",
              "</div>"
            ],
            "text/plain": [
              "     country  ...                      location\n",
              "2588  France  ...       Côtes de Bergerac - FRA\n",
              "808       US  ...              Napa Valley - US\n",
              "3631      US  ...                 Paicines - US\n",
              "2412      US  ...              Napa Valley - US\n",
              "531       US  ...  Walla Walla Valley (WA) - US\n",
              "\n",
              "[5 rows x 10 columns]"
            ]
          },
          "metadata": {
            "tags": []
          },
          "execution_count": 15
        }
      ]
    },
    {
      "cell_type": "markdown",
      "metadata": {
        "id": "Y0Sj4Eeajq-G",
        "colab_type": "text"
      },
      "source": [
        "**Observation:** Our `variety` column is a bit of a mess! Let's use a variety of string functions provided by pandas to set the varieties to lowercase, strip leading and trailing spaces, and replace any double spaces with single spaces!\n",
        "\n",
        "To do this, we will use (in order):\n",
        "- `str.strip()`: remove leading and trailing spaces.\n",
        "- `str.lower()`: convert the string to lowercase.\n",
        "- `str.replace()`: replace a given pattern or string with another."
      ]
    },
    {
      "cell_type": "code",
      "metadata": {
        "id": "ffHRr954jq-H",
        "colab_type": "code",
        "colab": {}
      },
      "source": [
        "# Remove leading and trailing spaces from the variety column\n",
        "\n",
        "\n",
        "# Set the variety names to lower case\n",
        "\n",
        "\n",
        "# Replace all double spaces with single spaces\n"
      ],
      "execution_count": null,
      "outputs": []
    },
    {
      "cell_type": "code",
      "metadata": {
        "id": "viHDgUNcjq-J",
        "colab_type": "code",
        "colab": {
          "base_uri": "https://localhost:8080/",
          "height": 68
        },
        "outputId": "3e6fbad8-5e24-4ab3-afc3-5a9204f4a0e8"
      },
      "source": [
        "# Double check that we have a sensible list of wine varieties\n"
      ],
      "execution_count": null,
      "outputs": [
        {
          "output_type": "execute_result",
          "data": {
            "text/plain": [
              "array(['bordeaux-style red blend', 'cabernet sauvignon', 'chardonnay',\n",
              "       'merlot', 'pinot noir', 'red blend', 'riesling', 'sauvignon blanc',\n",
              "       'syrah'], dtype=object)"
            ]
          },
          "metadata": {
            "tags": []
          },
          "execution_count": 23
        }
      ]
    },
    {
      "cell_type": "markdown",
      "metadata": {
        "id": "CbyvMh8Cjq-N",
        "colab_type": "text"
      },
      "source": [
        "---\n",
        "## Q&A 1\n",
        "---"
      ]
    },
    {
      "cell_type": "markdown",
      "metadata": {
        "id": "erneunmljq-O",
        "colab_type": "text"
      },
      "source": [
        "## **Let's build a wordcloud!**\n",
        "---\n",
        "Okay, we have some cleaned data, it's time to start exploring these reviews and learning what we can about wines. One common way of getting a visualization of text data is through a word cloud. Here, we will use:\n",
        "- `STOPWORDS`: a set of common words to eliminate from our wordcloud.\n",
        "- `.join()`: a method by which we can join together all of the reviews in our dataset so that we have one set of text for the wordcloud.\n",
        "- `WordCloud()`: a function to generate a wordcloud from a given set of text.\n",
        "- Some `matplotlib.pyplot` functions to show our wordcloud, turn off the axis, and call the plot."
      ]
    },
    {
      "cell_type": "code",
      "metadata": {
        "id": "v7-W2AXJjq-P",
        "colab_type": "code",
        "colab": {
          "base_uri": "https://localhost:8080/",
          "height": 1000
        },
        "outputId": "d87633fd-9832-4949-bbdf-1bdd71c3c899"
      },
      "source": [
        "# Assign the built-in set of STOPWORDS to a variable stopwords, and preview it\n",
        "stopwords = STOPWORDS\n",
        "stopwords"
      ],
      "execution_count": 22,
      "outputs": [
        {
          "output_type": "execute_result",
          "data": {
            "text/plain": [
              "{'a',\n",
              " 'about',\n",
              " 'above',\n",
              " 'after',\n",
              " 'again',\n",
              " 'against',\n",
              " 'all',\n",
              " 'also',\n",
              " 'am',\n",
              " 'an',\n",
              " 'and',\n",
              " 'any',\n",
              " 'are',\n",
              " \"aren't\",\n",
              " 'as',\n",
              " 'at',\n",
              " 'be',\n",
              " 'because',\n",
              " 'been',\n",
              " 'before',\n",
              " 'being',\n",
              " 'below',\n",
              " 'between',\n",
              " 'both',\n",
              " 'but',\n",
              " 'by',\n",
              " 'can',\n",
              " \"can't\",\n",
              " 'cannot',\n",
              " 'com',\n",
              " 'could',\n",
              " \"couldn't\",\n",
              " 'did',\n",
              " \"didn't\",\n",
              " 'do',\n",
              " 'does',\n",
              " \"doesn't\",\n",
              " 'doing',\n",
              " \"don't\",\n",
              " 'down',\n",
              " 'during',\n",
              " 'each',\n",
              " 'else',\n",
              " 'ever',\n",
              " 'few',\n",
              " 'for',\n",
              " 'from',\n",
              " 'further',\n",
              " 'get',\n",
              " 'had',\n",
              " \"hadn't\",\n",
              " 'has',\n",
              " \"hasn't\",\n",
              " 'have',\n",
              " \"haven't\",\n",
              " 'having',\n",
              " 'he',\n",
              " \"he'd\",\n",
              " \"he'll\",\n",
              " \"he's\",\n",
              " 'her',\n",
              " 'here',\n",
              " \"here's\",\n",
              " 'hers',\n",
              " 'herself',\n",
              " 'him',\n",
              " 'himself',\n",
              " 'his',\n",
              " 'how',\n",
              " \"how's\",\n",
              " 'however',\n",
              " 'http',\n",
              " 'i',\n",
              " \"i'd\",\n",
              " \"i'll\",\n",
              " \"i'm\",\n",
              " \"i've\",\n",
              " 'if',\n",
              " 'in',\n",
              " 'into',\n",
              " 'is',\n",
              " \"isn't\",\n",
              " 'it',\n",
              " \"it's\",\n",
              " 'its',\n",
              " 'itself',\n",
              " 'just',\n",
              " 'k',\n",
              " \"let's\",\n",
              " 'like',\n",
              " 'me',\n",
              " 'more',\n",
              " 'most',\n",
              " \"mustn't\",\n",
              " 'my',\n",
              " 'myself',\n",
              " 'no',\n",
              " 'nor',\n",
              " 'not',\n",
              " 'of',\n",
              " 'off',\n",
              " 'on',\n",
              " 'once',\n",
              " 'only',\n",
              " 'or',\n",
              " 'other',\n",
              " 'otherwise',\n",
              " 'ought',\n",
              " 'our',\n",
              " 'ours',\n",
              " 'ourselves',\n",
              " 'out',\n",
              " 'over',\n",
              " 'own',\n",
              " 'r',\n",
              " 'same',\n",
              " 'shall',\n",
              " \"shan't\",\n",
              " 'she',\n",
              " \"she'd\",\n",
              " \"she'll\",\n",
              " \"she's\",\n",
              " 'should',\n",
              " \"shouldn't\",\n",
              " 'since',\n",
              " 'so',\n",
              " 'some',\n",
              " 'such',\n",
              " 'than',\n",
              " 'that',\n",
              " \"that's\",\n",
              " 'the',\n",
              " 'their',\n",
              " 'theirs',\n",
              " 'them',\n",
              " 'themselves',\n",
              " 'then',\n",
              " 'there',\n",
              " \"there's\",\n",
              " 'these',\n",
              " 'they',\n",
              " \"they'd\",\n",
              " \"they'll\",\n",
              " \"they're\",\n",
              " \"they've\",\n",
              " 'this',\n",
              " 'those',\n",
              " 'through',\n",
              " 'to',\n",
              " 'too',\n",
              " 'under',\n",
              " 'until',\n",
              " 'up',\n",
              " 'very',\n",
              " 'was',\n",
              " \"wasn't\",\n",
              " 'we',\n",
              " \"we'd\",\n",
              " \"we'll\",\n",
              " \"we're\",\n",
              " \"we've\",\n",
              " 'were',\n",
              " \"weren't\",\n",
              " 'what',\n",
              " \"what's\",\n",
              " 'when',\n",
              " \"when's\",\n",
              " 'where',\n",
              " \"where's\",\n",
              " 'which',\n",
              " 'while',\n",
              " 'who',\n",
              " \"who's\",\n",
              " 'whom',\n",
              " 'why',\n",
              " \"why's\",\n",
              " 'with',\n",
              " \"won't\",\n",
              " 'would',\n",
              " \"wouldn't\",\n",
              " 'www',\n",
              " 'you',\n",
              " \"you'd\",\n",
              " \"you'll\",\n",
              " \"you're\",\n",
              " \"you've\",\n",
              " 'your',\n",
              " 'yours',\n",
              " 'yourself',\n",
              " 'yourselves'}"
            ]
          },
          "metadata": {
            "tags": []
          },
          "execution_count": 22
        }
      ]
    },
    {
      "cell_type": "markdown",
      "metadata": {
        "id": "qP1EIEx5jq-S",
        "colab_type": "text"
      },
      "source": [
        "**Observation:** As you can see, this set contains the type of words that are common and not particularly informative for our purposes (we want to learn about wine!)."
      ]
    },
    {
      "cell_type": "code",
      "metadata": {
        "id": "DwmZYoq4jq-T",
        "colab_type": "code",
        "colab": {
          "base_uri": "https://localhost:8080/",
          "height": 137
        },
        "outputId": "6b92b6ab-f429-46fa-b710-6e85ccf03354"
      },
      "source": [
        "# Join all the reviews by a space and lowercase\n",
        "\n",
        "\n",
        "# Preview first 2000 characters to see whether reviews have been joined\n"
      ],
      "execution_count": 17,
      "outputs": [
        {
          "output_type": "execute_result",
          "data": {
            "application/vnd.google.colaboratory.intrinsic": {
              "type": "string"
            },
            "text/plain": [
              "\"this tremendous 100% varietal wine hails from oakville and was aged over three years in oak. juicy red-cherry fruit and a compelling hint of caramel greet the palate, framed by elegant, fine tannins and a subtle minty tone in the background. balanced and rewarding from start to finish, it has years ahead of it to develop further nuance. enjoy 2022–2030. mac watson honors the memory of a wine once made by his mother in this tremendously delicious, balanced and complex botrytised white. dark gold in color, it layers toasted hazelnut, pear compote and orange peel flavors, reveling in the succulence of its 122 g/l of residual sugar. this spent 20 months in 30% new french oak, and incorporates fruit from ponzi's aurora, abetina and madrona vineyards, among others. aromatic, dense and toasty, it deftly blends aromas and flavors of toast, cigar box, blackberry, black cherry, coffee and graphite. tannins are polished to a fine sheen, and frame a finish loaded with dark chocolate and espresso. drink now through 2032. this re-named vineyard was formerly bottled as delancellotti. you'll find striking minerality underscoring chunky black fruits. accents of citrus and graphite comingle, with exceptional midpalate concentration. this is a wine to cellar, though it is already quite enjoyable. drink now through 2030. the producer sources from two blocks of the vineyard for this wine—one at a high elevation, which contributes bright acidity. crunchy cranberry, pomegranate and orange peel flavors surround silky, succulent layers of texture that present as fleshy fruit. that delicately lush flavor has considerable length. from 18-year-old vines, this supple well-balanced effort blends flavors of mocha, cherry, vanilla and breakfast tea. superbly integrated and delicious even at this early stage, this wine seems destined for a long and savory cellar life. drink now through 2028. a standout even in this terrific lineup of 2015 releases from patricia green, the weber opens with a burst o\""
            ]
          },
          "metadata": {
            "tags": []
          },
          "execution_count": 17
        }
      ]
    },
    {
      "cell_type": "markdown",
      "metadata": {
        "id": "6UUlEsfvjq-W",
        "colab_type": "text"
      },
      "source": [
        "Initial arguments for our first `WordCloud()`:\n",
        "- `collocations`: whether we include bigrams of words (e.g. \"the wine\") or just unigrams (e.g. \"wine\").\n",
        "    - In this wordcloud, our stopwords are only built for individual words, rather than bigrams. So let's turn this off.\n",
        "- `width` and `height`: width and height of the wordcloud canvas\n",
        "- `background_color`: the color of the background\n",
        "- `stopwords`: words that will be eliminated from the wordcloud (in this case, the common ones we loaded in earlier)\n",
        "\n",
        "We then use the `.generate()` method to generate our wordcloud from our `text` variable."
      ]
    },
    {
      "cell_type": "code",
      "metadata": {
        "id": "ivX3uhIXjq-X",
        "colab_type": "code",
        "colab": {
          "base_uri": "https://localhost:8080/",
          "height": 248
        },
        "outputId": "f1807d9b-4e6e-41ba-b073-34b502e11f00"
      },
      "source": [
        "# Initialize wordcloud\n",
        "\n",
        "\n",
        "\n",
        "\n",
        "\n",
        "# Generate wordcloud from our text variable    \n",
        "\n",
        "\n",
        "# Render the wordcloud as an image, turn off the axis, and show\n",
        "plt.imshow(wordcloud)\n",
        "plt.axis(\"off\")\n",
        "plt.show()"
      ],
      "execution_count": 23,
      "outputs": [
        {
          "output_type": "display_data",
          "data": {
            "image/png": "[encoded data removed]",
            "text/plain": [
              "<Figure size 432x288 with 1 Axes>"
            ]
          },
          "metadata": {
            "tags": [],
            "needs_background": "light"
          }
        }
      ]
    },
    {
      "cell_type": "markdown",
      "metadata": {
        "id": "_4ytMc7Gjq-a",
        "colab_type": "text"
      },
      "source": [
        "1. We can update our set of `stopwords` by calling `.update()`, passing in a list of words that we don't want to appear in the wordcloud.\n",
        "\n",
        "2. We can update the background color by updating the `background_color` argument.\n",
        "\n",
        "3. Lastly, we can update the size of the wordcloud by specifying the figure size in `plt.figure()`. Wordcloud is built upon `matplotlib`, so we can adjust figure characteristics by using our `plt` alias for `matplotlib.pyplot`."
      ]
    },
    {
      "cell_type": "code",
      "metadata": {
        "id": "fj93pb7bjq-a",
        "colab_type": "code",
        "colab": {
          "base_uri": "https://localhost:8080/",
          "height": 232
        },
        "outputId": "bb2ad3a7-1c0b-4019-b421-672a4a6ba0ba"
      },
      "source": [
        "# Less interesting words\n",
        "wine_stopwords = []\n",
        "\n",
        "# Update our stopwords with words that aren't too interesting to us\n",
        "\n",
        "\n",
        "# Generate our wordcloud, but change the background color\n",
        "wordcloud = WordCloud(\n",
        "    collocations=False, \n",
        "    width = 1200, height = 800, \n",
        "    background_color=\"black\", \n",
        "    stopwords=stopwords)\n",
        "\n",
        "wordcloud.generate(text)\n",
        "\n",
        "# Display the wordcloud, but with update size\n",
        "plt.figure(figsize=(15,10))\n",
        "plt.imshow(wordcloud)\n",
        "plt.axis(\"off\")\n",
        "plt.show()"
      ],
      "execution_count": 21,
      "outputs": [
        {
          "output_type": "error",
          "ename": "NameError",
          "evalue": "ignored",
          "traceback": [
            "\u001b[0;31m---------------------------------------------------------------------------\u001b[0m",
            "\u001b[0;31mNameError\u001b[0m                                 Traceback (most recent call last)",
            "\u001b[0;32m<ipython-input-21-67638f0e001f>\u001b[0m in \u001b[0;36m<module>\u001b[0;34m()\u001b[0m\n\u001b[1;32m      3\u001b[0m \u001b[0;34m\u001b[0m\u001b[0m\n\u001b[1;32m      4\u001b[0m \u001b[0;31m# Update our stopwords with words that aren't too interesting to us\u001b[0m\u001b[0;34m\u001b[0m\u001b[0;34m\u001b[0m\u001b[0;34m\u001b[0m\u001b[0m\n\u001b[0;32m----> 5\u001b[0;31m \u001b[0mstopwords\u001b[0m\u001b[0;34m.\u001b[0m\u001b[0mupdate\u001b[0m\u001b[0;34m(\u001b[0m\u001b[0mwine_stopwords\u001b[0m\u001b[0;34m)\u001b[0m\u001b[0;34m\u001b[0m\u001b[0;34m\u001b[0m\u001b[0m\n\u001b[0m\u001b[1;32m      6\u001b[0m \u001b[0;34m\u001b[0m\u001b[0m\n\u001b[1;32m      7\u001b[0m \u001b[0;31m# Generate our wordcloud, but change the background color\u001b[0m\u001b[0;34m\u001b[0m\u001b[0;34m\u001b[0m\u001b[0;34m\u001b[0m\u001b[0m\n",
            "\u001b[0;31mNameError\u001b[0m: name 'stopwords' is not defined"
          ]
        }
      ]
    },
    {
      "cell_type": "code",
      "metadata": {
        "id": "lLHWYBmxnUyK",
        "colab_type": "code",
        "colab": {}
      },
      "source": [
        ""
      ],
      "execution_count": null,
      "outputs": []
    },
    {
      "cell_type": "markdown",
      "metadata": {
        "id": "GwJfsgOVnZiV",
        "colab_type": "text"
      },
      "source": [
        "## **Simple word count**\n",
        "While a full runthrough of preprocessing for advanced topics such as natural language processing and machine learning are beyond the scope of this live-training, let's just do a quick preview of how one might get a frequency count of words outside of a wordcloud! To do this we will use:\n",
        "- `word_tokenize()`: a function we imported earlier from `ntlk.tokenize` that will 'tokenize' or split a string into substrings based on a set of criteria. In this case, we will split based on punctuation, thereby collecting words.\n",
        "- `Counter()`: a type of dictionary from the `collections` module that stores elements as keys and their counts as values.\n",
        "- `.most_common()`: a method on a counter object that will return the _n_ most common elements.\n",
        "- `.isalpha()`: Returns True if all characters are alphabetic."
      ]
    },
    {
      "cell_type": "code",
      "metadata": {
        "id": "-7WnwmTpheL5",
        "colab_type": "code",
        "colab": {
          "base_uri": "https://localhost:8080/",
          "height": 357
        },
        "outputId": "aa503390-d17d-46c8-ac51-73b6804fdc95"
      },
      "source": [
        "# Tokenize our existing set of text if the word is alphabetic\n",
        "tokens = \n",
        "\n",
        "# Return all of our text in lower-case\n",
        "lower_tokens = \n",
        "\n",
        "# Filter our list for words that aren't in our existing set of stopwords\n",
        "final_words = \n",
        "\n",
        "# Preview our tokenized list\n"
      ],
      "execution_count": 25,
      "outputs": [
        {
          "output_type": "execute_result",
          "data": {
            "text/plain": [
              "['tremendous',\n",
              " 'varietal',\n",
              " 'wine',\n",
              " 'hails',\n",
              " 'oakville',\n",
              " 'aged',\n",
              " 'three',\n",
              " 'years',\n",
              " 'oak',\n",
              " 'juicy',\n",
              " 'fruit',\n",
              " 'compelling',\n",
              " 'hint',\n",
              " 'caramel',\n",
              " 'greet',\n",
              " 'palate',\n",
              " 'framed',\n",
              " 'elegant',\n",
              " 'fine',\n",
              " 'tannins']"
            ]
          },
          "metadata": {
            "tags": []
          },
          "execution_count": 25
        }
      ]
    },
    {
      "cell_type": "code",
      "metadata": {
        "id": "iiRztY92scMI",
        "colab_type": "code",
        "colab": {
          "base_uri": "https://localhost:8080/",
          "height": 187
        },
        "outputId": "8be0fc94-ff72-4813-9c8a-a0869339c602"
      },
      "source": [
        "# Use counter to create a count of each word in our filtered list \n",
        "word_count = Counter(final_words)\n",
        "\n",
        "# Use a loop to print the 10 most common tokens\n",
        "for word in word_count.most_common(10):\n",
        "  print(word[0] + \": \" + str(word[1]) + \" mentions\")"
      ],
      "execution_count": null,
      "outputs": [
        {
          "output_type": "stream",
          "text": [
            "fruit: 1535 mentions\n",
            "black: 1167 mentions\n",
            "tannins: 1154 mentions\n",
            "aromas: 1106 mentions\n",
            "acidity: 1030 mentions\n",
            "cherry: 984 mentions\n",
            "finish: 927 mentions\n",
            "ripe: 808 mentions\n",
            "oak: 698 mentions\n",
            "red: 643 mentions\n"
          ],
          "name": "stdout"
        }
      ]
    },
    {
      "cell_type": "code",
      "metadata": {
        "id": "RbViTKFW-riJ",
        "colab_type": "code",
        "colab": {
          "base_uri": "https://localhost:8080/",
          "height": 51
        },
        "outputId": "3236c40c-bf3f-44f2-a284-ee323523df73"
      },
      "source": [
        "# Check word count for variants of words\n",
        "print(word_count['tannin'])\n",
        "print(word_count['tannins'])"
      ],
      "execution_count": null,
      "outputs": [
        {
          "output_type": "stream",
          "text": [
            "118\n",
            "1154\n"
          ],
          "name": "stdout"
        }
      ]
    },
    {
      "cell_type": "markdown",
      "metadata": {
        "id": "-CMuf_-c-75U",
        "colab_type": "text"
      },
      "source": [
        "**Observation:** It looks like our count could be more accurate, as there are nearly identical words included!"
      ]
    },
    {
      "cell_type": "markdown",
      "metadata": {
        "id": "ep5zq9J9_L_5",
        "colab_type": "text"
      },
      "source": [
        "## **Stemming and Lemmatization**\n",
        "### **Stemming**\n",
        "There are a few ways we can go about fixing this. First, there is stemming, which is an algorithmic way of reducing words to their root form. However, in doing so, it runs the risk of producing non-words as a result. Let's take a look by importing `PorterStemmer()` from `nltk.stem`.\n",
        "- `PorterStemmer()`: a popular stemmer available in the `nltk.stem` package, based on the Porter stemming algorithm. .\n",
        "- `.stem()`: the method to which we pass the token we want to stem."
      ]
    },
    {
      "cell_type": "code",
      "metadata": {
        "id": "Ocqyw6YFEtWC",
        "colab_type": "code",
        "colab": {
          "base_uri": "https://localhost:8080/",
          "height": 34
        },
        "outputId": "b64e7529-7c55-4ea0-c2e8-84de287cee4d"
      },
      "source": [
        "# Import PorterStemmer\n",
        "from nltk.stem import PorterStemmer\n",
        "stemmer = PorterStemmer()\n",
        "\n",
        "# Generate a list of test words\n",
        "test_words = ['bike', 'bikes', 'biking']\n",
        "\n",
        "# View the stemmer in action\n",
        "print([stemmer.stem(word) for word in test_words])"
      ],
      "execution_count": null,
      "outputs": [
        {
          "output_type": "stream",
          "text": [
            "['bike', 'bike', 'bike']\n"
          ],
          "name": "stdout"
        }
      ]
    },
    {
      "cell_type": "code",
      "metadata": {
        "id": "wGdbOEW_FlSA",
        "colab_type": "code",
        "colab": {
          "base_uri": "https://localhost:8080/",
          "height": 34
        },
        "outputId": "5ec14efc-5c7e-4162-b0a5-15ba3147952f"
      },
      "source": [
        "# Generate a new list of test words\n",
        "new_words = ['lease', 'leasing', 'leases']\n",
        "\n",
        "# View the stemmer in action\n",
        "print([stemmer.stem(word) for word in new_words])"
      ],
      "execution_count": null,
      "outputs": [
        {
          "output_type": "stream",
          "text": [
            "['leas', 'leas', 'leas']\n"
          ],
          "name": "stdout"
        }
      ]
    },
    {
      "cell_type": "markdown",
      "metadata": {
        "id": "O8IUI6CRGR12",
        "colab_type": "text"
      },
      "source": [
        "**Observation:** It looks like we are already encountering limits of our stemmer! "
      ]
    },
    {
      "cell_type": "markdown",
      "metadata": {
        "id": "2ZutD8xFHhUR",
        "colab_type": "text"
      },
      "source": [
        "### **Lemmatization**\n",
        "An approach that is slower, but relies upon linguistic rules is the process of _lemmatization_, which attemps to reduce input to its root word, or _lemma_. Unlike the algorithmic approach of stemming, lemmatization uses a corpus to ensure that the root word is an actual word. Let's use `WordNetLemmatizer()` and its corresponding method `.lemmatize()` from the `NLTK` library to try this out!"
      ]
    },
    {
      "cell_type": "code",
      "metadata": {
        "id": "pNaRM0u0HeN1",
        "colab_type": "code",
        "colab": {
          "base_uri": "https://localhost:8080/",
          "height": 51
        },
        "outputId": "0cebbbdc-3724-405c-8739-4d8fe7a1cee1"
      },
      "source": [
        "# Import WordNetLemmatizer\n",
        "from nltk.stem import WordNetLemmatizer\n",
        "lemmatizer = WordNetLemmatizer()\n",
        "\n",
        "# View the stemmer in action\n",
        "print([lemmatizer.lemmatize(word) for word in test_words])\n",
        "print([lemmatizer.lemmatize(word) for word in new_words])"
      ],
      "execution_count": null,
      "outputs": [
        {
          "output_type": "stream",
          "text": [
            "['bike', 'bike', 'biking']\n",
            "['lease', 'leasing', 'lease']\n"
          ],
          "name": "stdout"
        }
      ]
    },
    {
      "cell_type": "markdown",
      "metadata": {
        "id": "rQw4n2I_H7rv",
        "colab_type": "text"
      },
      "source": [
        "## **A final pass through our word frequencies**\n",
        "Okay, now that we have experimented a bit, let's do a final run through our words with a lemmatizer and plot the counts."
      ]
    },
    {
      "cell_type": "code",
      "metadata": {
        "id": "wjHc4bRuIM11",
        "colab_type": "code",
        "colab": {
          "base_uri": "https://localhost:8080/",
          "height": 68
        },
        "outputId": "7c3752c7-1796-48ce-a660-cd0c37dd0a50"
      },
      "source": [
        "# Lemmatize our list with our lemmatizer\n",
        "lemmatized_words = [lemmatizer.lemmatize(word) for word in final_words]\n",
        "\n",
        "# Use counter to create a count of each word in our filtered list \n",
        "new_word_count = Counter(lemmatized_words)\n",
        "\n",
        "# Check the success of our lemmatization\n",
        "print(\"Old count of tannin: \" + str(word_count.get('tannin')))\n",
        "print(\"New count of tannin: \" + str(new_word_count.get('tannin')))\n",
        "print(\"New count of tannins: \" + str(new_word_count.get('tannins')))"
      ],
      "execution_count": null,
      "outputs": [
        {
          "output_type": "stream",
          "text": [
            "Old count of tannin: 118\n",
            "New count of tannin: 1272\n",
            "New count of tannins: None\n"
          ],
          "name": "stdout"
        }
      ]
    },
    {
      "cell_type": "code",
      "metadata": {
        "id": "U16RIhSuJ89G",
        "colab_type": "code",
        "colab": {
          "base_uri": "https://localhost:8080/",
          "height": 204
        },
        "outputId": "9d9ad63d-5275-4362-82f8-2e86f65f1d53"
      },
      "source": [
        "# Convert our most common words to a DataFrame for easy plotting\n",
        "word_freq = pd.DataFrame(new_word_count.most_common(15), index=None, columns=['Word', 'Count'])\n",
        "\n",
        "# View first five rows\n",
        "word_freq.head(5)"
      ],
      "execution_count": null,
      "outputs": [
        {
          "output_type": "execute_result",
          "data": {
            "text/html": [
              "<div>\n",
              "<style scoped>\n",
              "    .dataframe tbody tr th:only-of-type {\n",
              "        vertical-align: middle;\n",
              "    }\n",
              "\n",
              "    .dataframe tbody tr th {\n",
              "        vertical-align: top;\n",
              "    }\n",
              "\n",
              "    .dataframe thead th {\n",
              "        text-align: right;\n",
              "    }\n",
              "</style>\n",
              "<table border=\"1\" class=\"dataframe\">\n",
              "  <thead>\n",
              "    <tr style=\"text-align: right;\">\n",
              "      <th></th>\n",
              "      <th>Word</th>\n",
              "      <th>Count</th>\n",
              "    </tr>\n",
              "  </thead>\n",
              "  <tbody>\n",
              "    <tr>\n",
              "      <th>0</th>\n",
              "      <td>fruit</td>\n",
              "      <td>2037</td>\n",
              "    </tr>\n",
              "    <tr>\n",
              "      <th>1</th>\n",
              "      <td>tannin</td>\n",
              "      <td>1272</td>\n",
              "    </tr>\n",
              "    <tr>\n",
              "      <th>2</th>\n",
              "      <td>black</td>\n",
              "      <td>1167</td>\n",
              "    </tr>\n",
              "    <tr>\n",
              "      <th>3</th>\n",
              "      <td>aroma</td>\n",
              "      <td>1155</td>\n",
              "    </tr>\n",
              "    <tr>\n",
              "      <th>4</th>\n",
              "      <td>cherry</td>\n",
              "      <td>1112</td>\n",
              "    </tr>\n",
              "  </tbody>\n",
              "</table>\n",
              "</div>"
            ],
            "text/plain": [
              "     Word  Count\n",
              "0   fruit   2037\n",
              "1  tannin   1272\n",
              "2   black   1167\n",
              "3   aroma   1155\n",
              "4  cherry   1112"
            ]
          },
          "metadata": {
            "tags": []
          },
          "execution_count": 54
        }
      ]
    },
    {
      "cell_type": "code",
      "metadata": {
        "id": "B1zrX_nOKolF",
        "colab_type": "code",
        "colab": {
          "base_uri": "https://localhost:8080/",
          "height": 501
        },
        "outputId": "9f5db774-c8ac-4feb-b52d-2217bddd5312"
      },
      "source": [
        "# Set figure size\n",
        "plt.figure(figsize=(12, 8))\n",
        "\n",
        "# Create a barplot with our values\n",
        "plt.barh(y=word_freq.Word, width=word_freq.Count)\n",
        "\n",
        "# Invert the y axis\n",
        "plt.gca().invert_yaxis()\n",
        "\n",
        "# Set the title and show\n",
        "plt.title('Most common words')\n",
        "plt.show()"
      ],
      "execution_count": null,
      "outputs": [
        {
          "output_type": "display_data",
          "data": {
            "image/png": "[encoded data removed]",
            "text/plain": [
              "<Figure size 864x576 with 1 Axes>"
            ]
          },
          "metadata": {
            "tags": []
          }
        }
      ]
    },
    {
      "cell_type": "markdown",
      "metadata": {
        "id": "abLj4kfkjq-d",
        "colab_type": "text"
      },
      "source": [
        "## **Searching for specific strings**\n",
        "Wordclouds and frequency counts are great starting steps, but to really explore our data we will probably want to be able to search it. Let's do some basic searches for mentions of oak in the `description` column of the DataFrame.\n",
        "- `str.contains()` will return a Boolean whether a given pattern or string is found in the string of the series. It is based off of `re.search`. \n",
        "    - For now, we will use the optional parameters `case` and `regex` to ensure that our search is _not_ case sensitive, and to specify that we are not using a regular expression pattern, and instead simply a string."
      ]
    },
    {
      "cell_type": "code",
      "metadata": {
        "id": "_dVeEL4tjq-e",
        "colab_type": "code",
        "colab": {
          "base_uri": "https://localhost:8080/",
          "height": 476
        },
        "outputId": "fe6811ea-4573-4514-9ede-bf707d428f73"
      },
      "source": [
        "# Create our Boolean filter\n",
        "oak_filter = wine_df['description'].str.contains('oak', case=False, regex=False)\n",
        "\n",
        "# Filter our DataFrame using our oak_filter and look at the first five rows\n",
        "wine_df[oak_filter][0:5]"
      ],
      "execution_count": null,
      "outputs": [
        {
          "output_type": "execute_result",
          "data": {
            "text/html": [
              "<div>\n",
              "<style scoped>\n",
              "    .dataframe tbody tr th:only-of-type {\n",
              "        vertical-align: middle;\n",
              "    }\n",
              "\n",
              "    .dataframe tbody tr th {\n",
              "        vertical-align: top;\n",
              "    }\n",
              "\n",
              "    .dataframe thead th {\n",
              "        text-align: right;\n",
              "    }\n",
              "</style>\n",
              "<table border=\"1\" class=\"dataframe\">\n",
              "  <thead>\n",
              "    <tr style=\"text-align: right;\">\n",
              "      <th></th>\n",
              "      <th>country</th>\n",
              "      <th>description</th>\n",
              "      <th>designation</th>\n",
              "      <th>points</th>\n",
              "      <th>price</th>\n",
              "      <th>province</th>\n",
              "      <th>region</th>\n",
              "      <th>variety</th>\n",
              "      <th>winery</th>\n",
              "      <th>location</th>\n",
              "    </tr>\n",
              "  </thead>\n",
              "  <tbody>\n",
              "    <tr>\n",
              "      <th>0</th>\n",
              "      <td>US</td>\n",
              "      <td>This tremendous 100% varietal wine hails from Oakville and was aged over three years in oak. Juicy red-cherry fruit and a compelling hint of caramel greet the palate, framed by elegant, fine tannins and a subtle minty tone in the background. Balanced and rewarding from start to finish, it has years ahead of it to develop further nuance. Enjoy 2022–2030.</td>\n",
              "      <td>Martha's Vineyard</td>\n",
              "      <td>96</td>\n",
              "      <td>235.0</td>\n",
              "      <td>California</td>\n",
              "      <td>Napa Valley</td>\n",
              "      <td>cabernet sauvignon</td>\n",
              "      <td>Heitz</td>\n",
              "      <td>Napa Valley - US</td>\n",
              "    </tr>\n",
              "    <tr>\n",
              "      <th>2</th>\n",
              "      <td>US</td>\n",
              "      <td>This spent 20 months in 30% new French oak, and incorporates fruit from Ponzi's Aurora, Abetina and Madrona vineyards, among others. Aromatic, dense and toasty, it deftly blends aromas and flavors of toast, cigar box, blackberry, black cherry, coffee and graphite. Tannins are polished to a fine sheen, and frame a finish loaded with dark chocolate and espresso. Drink now through 2032.</td>\n",
              "      <td>Reserve</td>\n",
              "      <td>96</td>\n",
              "      <td>65.0</td>\n",
              "      <td>Oregon</td>\n",
              "      <td>Willamette Valley</td>\n",
              "      <td>pinot noir</td>\n",
              "      <td>Ponzi</td>\n",
              "      <td>Willamette Valley - US</td>\n",
              "    </tr>\n",
              "    <tr>\n",
              "      <th>9</th>\n",
              "      <td>US</td>\n",
              "      <td>This blockbuster, powerhouse of a wine suggests blueberry pie and chocolate as it opens in the glass. On the palate, it's smooth and seductively silky, offering complex cedar, peppercorn and peppery oak seasonings amidst its dense richness. It finishes with finesse and spice.</td>\n",
              "      <td>Rainin Vineyard</td>\n",
              "      <td>95</td>\n",
              "      <td>325.0</td>\n",
              "      <td>California</td>\n",
              "      <td>Diamond Mountain District</td>\n",
              "      <td>cabernet sauvignon</td>\n",
              "      <td>Hall</td>\n",
              "      <td>Diamond Mountain District - US</td>\n",
              "    </tr>\n",
              "    <tr>\n",
              "      <th>14</th>\n",
              "      <td>US</td>\n",
              "      <td>Focused and dense, this intense wine captures the essence of ripe raspberries. Aged in 50% new French oak, it's got a strong vein of coffee and mocha. The flavors broaden out and penetrate, finishing with highlights of cedar, cinnamon and dark chocolate. Drink now through the 2020s, but decant if you want the full expression.</td>\n",
              "      <td>Abetina</td>\n",
              "      <td>94</td>\n",
              "      <td>105.0</td>\n",
              "      <td>Oregon</td>\n",
              "      <td>Willamette Valley</td>\n",
              "      <td>pinot noir</td>\n",
              "      <td>Ponzi</td>\n",
              "      <td>Willamette Valley - US</td>\n",
              "    </tr>\n",
              "    <tr>\n",
              "      <th>17</th>\n",
              "      <td>US</td>\n",
              "      <td>Steely and perfumed, this wine sees only 20% new French oak, remaining vibrantly fresh. Baked apple and lemon pith veer into grapefruit on the palate, with spiciness to the finish that's both brash and loud.</td>\n",
              "      <td>Babushka</td>\n",
              "      <td>90</td>\n",
              "      <td>37.0</td>\n",
              "      <td>California</td>\n",
              "      <td>Russian River Valley</td>\n",
              "      <td>chardonnay</td>\n",
              "      <td>Zepaltas</td>\n",
              "      <td>Russian River Valley - US</td>\n",
              "    </tr>\n",
              "  </tbody>\n",
              "</table>\n",
              "</div>"
            ],
            "text/plain": [
              "   country  ...                        location\n",
              "0       US  ...                Napa Valley - US\n",
              "2       US  ...          Willamette Valley - US\n",
              "9       US  ...  Diamond Mountain District - US\n",
              "14      US  ...          Willamette Valley - US\n",
              "17      US  ...       Russian River Valley - US\n",
              "\n",
              "[5 rows x 10 columns]"
            ]
          },
          "metadata": {
            "tags": []
          },
          "execution_count": 62
        }
      ]
    },
    {
      "cell_type": "markdown",
      "metadata": {
        "id": "yO3zdCyejq-h",
        "colab_type": "text"
      },
      "source": [
        "**Observation:** Take a look at the first result. Although the review does make reference to being aged in `oak`, it also references the wine coming from `Oakville`. Thus, there may be a risk that our query is grabbing descriptions that contain Oakville, and not oak."
      ]
    },
    {
      "cell_type": "markdown",
      "metadata": {
        "id": "GaS0yXCajq-i",
        "colab_type": "text"
      },
      "source": [
        "**Introduction to Regular Expressions**\n",
        "---\n",
        "We could add a space after `'oak'` to ensure that we don't get Oakville, but what about when the word ends a sentence, or `'oakiness'` and `'oaky'`? Enter regular expressions, which allow us to define patterns to find and extract text.\n",
        "\n",
        "Regular expressions are strings that make use of normal and special characters to help define a pattern which we can then compare to our text of interest. Here, we will make use of a few special characters to write a pattern for `oak` and related adjectives. But first, let's try out some simple examples by using the digit special character."
      ]
    },
    {
      "cell_type": "markdown",
      "metadata": {
        "id": "oap6aZeXjq-i",
        "colab_type": "text"
      },
      "source": [
        "`\\d`: Matches any digit character (i.e. 0-9)\n",
        "\n",
        "`{}`: Quantifies the number of matches. \n",
        "- `{1,5}` will match between 1 and 5.\n",
        "- `{2,}` will match at least two."
      ]
    },
    {
      "cell_type": "markdown",
      "metadata": {
        "id": "_RrPofSfjq-j",
        "colab_type": "text"
      },
      "source": [
        "There are many more special characters we can use to write complex regular expression (or regex) patterns, but let's see what we can do with what we have learned so far. We will make use of the `re` package:\n",
        "- `findall()` will return all matches of our patterns in a given string."
      ]
    },
    {
      "cell_type": "code",
      "metadata": {
        "id": "B7Yuj011jq-k",
        "colab_type": "code",
        "colab": {
          "base_uri": "https://localhost:8080/",
          "height": 34
        },
        "outputId": "ce070a5f-7d12-4dd9-e22a-c757f72025a1"
      },
      "source": [
        "# Create a very contrived test string\n",
        "test_string = \"\"\"\n",
        "This tremendous 100% varietal wine hails from Oakville \n",
        "and was aged over three years in oak. Juicy red-cherry fruit \n",
        "and a compelling hint of caramel greet the palate, framed by elegant, \n",
        "fine tannins and a subtle 20% minty tone in the background. \n",
        "Balanced and rewarding from start to finish, \n",
        "it has years ahead of it to develop further nuance. There are absolutely no\n",
        "bad tannins in this wine. But there is a tasty tannin.\n",
        "Enjoy 2022–2030.\"\"\"\n",
        "\n",
        "# Let's find all digits in this review\n",
        "re.findall(\"\\d\", test_string)"
      ],
      "execution_count": null,
      "outputs": [
        {
          "output_type": "execute_result",
          "data": {
            "text/plain": [
              "['1', '0', '0', '2', '0', '2', '0', '2', '2', '2', '0', '3', '0']"
            ]
          },
          "metadata": {
            "tags": []
          },
          "execution_count": 68
        }
      ]
    },
    {
      "cell_type": "code",
      "metadata": {
        "id": "1HpWVoPFjq-n",
        "colab_type": "code",
        "colab": {
          "base_uri": "https://localhost:8080/",
          "height": 34
        },
        "outputId": "a0e8ad9d-1d00-4de8-ffb6-780f83a55b94"
      },
      "source": [
        "# Let's find all years represented in the format XXXX in this review\n",
        "re.findall(\"\\d{\\d\\d\\d}\", test_string)"
      ],
      "execution_count": null,
      "outputs": [
        {
          "output_type": "execute_result",
          "data": {
            "text/plain": [
              "['2022', '2030']"
            ]
          },
          "metadata": {
            "tags": []
          },
          "execution_count": 65
        }
      ]
    },
    {
      "cell_type": "code",
      "metadata": {
        "id": "HPmeILgbjq-p",
        "colab_type": "code",
        "colab": {
          "base_uri": "https://localhost:8080/",
          "height": 34
        },
        "outputId": "39c959e2-497b-4023-95c9-e2208c5b94c5"
      },
      "source": [
        "# Let's find all percentages (with between 1 and 3 digits, followed by a percentage sign)\n",
        "re.findall(\"\\d{1,3}%\", test_string)"
      ],
      "execution_count": null,
      "outputs": [
        {
          "output_type": "execute_result",
          "data": {
            "text/plain": [
              "['100%', '20%']"
            ]
          },
          "metadata": {
            "tags": []
          },
          "execution_count": 66
        }
      ]
    },
    {
      "cell_type": "markdown",
      "metadata": {
        "id": "VdinVaQBjq-t",
        "colab_type": "text"
      },
      "source": [
        "### **Let's expand a bit on some other special characters before diving back into our dataset!**\n",
        "\n",
        "`\\w`: Matches any alphanumeric character or underscore (i.e. A-Z, a-z, 0-9, \\_)\n",
        "\n",
        "`+`: Matches between 1 or more of the preceding character.\n",
        "\n",
        "`?`: Matches 0 or more of the preceding character."
      ]
    },
    {
      "cell_type": "code",
      "metadata": {
        "id": "WdAZEpPTjq-t",
        "colab_type": "code",
        "colab": {
          "base_uri": "https://localhost:8080/",
          "height": 34
        },
        "outputId": "e68262c5-7f95-4590-bba5-ef93699a0804"
      },
      "source": [
        "# Find all mentions of tannin (or tannins), as well as the word that precedes it for context\n",
        "re.findall(\"\\w+ tannins?\", test_string)"
      ],
      "execution_count": null,
      "outputs": [
        {
          "output_type": "execute_result",
          "data": {
            "text/plain": [
              "['fine tannins', 'bad tannins', 'tasty tannin']"
            ]
          },
          "metadata": {
            "tags": []
          },
          "execution_count": 69
        }
      ]
    },
    {
      "cell_type": "markdown",
      "metadata": {
        "id": "6s4Rd8Q-jq-y",
        "colab_type": "text"
      },
      "source": [
        "---\n",
        "## Q&A 2\n",
        "---"
      ]
    },
    {
      "cell_type": "markdown",
      "metadata": {
        "id": "EyOOmQhbjq-y",
        "colab_type": "text"
      },
      "source": [
        "## **Let's learn about oak!**"
      ]
    },
    {
      "cell_type": "markdown",
      "metadata": {
        "id": "KKd2iozxjq-z",
        "colab_type": "text"
      },
      "source": [
        "1. First, we want to ensure that it is preceded by a space, because there may be cases where a word contains the same characters (e.g. `'cloak`'). We do this by using the `\\s` character class, which matches any white space, such as spaces, tabs, and line breaks.\n",
        "\n",
        "```\n",
        "\\s\n",
        "```"
      ]
    },
    {
      "cell_type": "markdown",
      "metadata": {
        "id": "dWRpeagUjq-0",
        "colab_type": "text"
      },
      "source": [
        "2. We then want to search for a capitalized or non-capitalized `'o'`. To do this, we can use a character set `[]`, which matches any character in the square brackets. We then add `'a'` and `'k'` as these characters will be in every variant of oak we want to search for.\n",
        "\n",
        "```\n",
        "[Oo]ak\n",
        "```"
      ]
    },
    {
      "cell_type": "markdown",
      "metadata": {
        "id": "o5wMED2Tjq-0",
        "colab_type": "text"
      },
      "source": [
        "3. Next, we want to allow our search to include `'iness'`, `'y'`, or any additional punctuation or white space. We can do this using capturing groups and alternation. Here, we use one large capturing group, and then search for any of the inner groups using `|`. So the first set of bracketed characters look for `'iness'`, the second set looks for `y`, and then we use a character set that allows for a period, a comma, or white space.\n",
        "```\n",
        "((iness)|(y)|[/.,\\s])\n",
        "```"
      ]
    },
    {
      "cell_type": "markdown",
      "metadata": {
        "id": "YRtrCMMQjq-1",
        "colab_type": "text"
      },
      "source": [
        "Putting the pieces together, we now have a pattern that will capture all references to oak that we expect to find, while also not matching with words like `'Oakville'`. Let's add these together, and then assign them to the variable `oak_pattern`."
      ]
    },
    {
      "cell_type": "code",
      "metadata": {
        "id": "8mRWEteAjq-1",
        "colab_type": "code",
        "colab": {}
      },
      "source": [
        "# Search for a white space, \n",
        "    # followed by any case 'o', 'ak', \n",
        "    # and ending in 'iness', 'y', or a period, comma, or whitespace.\n",
        "oak_pattern = r\"\\s[Oo]ak((iness)|y|[/.,\\s])\""
      ],
      "execution_count": null,
      "outputs": []
    },
    {
      "cell_type": "markdown",
      "metadata": {
        "id": "LodJd05Ijq-4",
        "colab_type": "text"
      },
      "source": [
        "### **Testing our pattern**\n",
        "**Note:** It is always a good idea to test that your regular expression is returning the results that you would expect, especially when you are working with longer and more complex patterns. There are many resources online where you can test patterns, such as www.regexr.com\n",
        "Here, we will use:\n",
        "- `re.search()`: returns a match object if it finds an occurence of the pattern, and `NULL` if it doesn't."
      ]
    },
    {
      "cell_type": "code",
      "metadata": {
        "id": "zHPhzL9Qjq-4",
        "colab_type": "code",
        "colab": {
          "base_uri": "https://localhost:8080/",
          "height": 34
        },
        "outputId": "41b3f8dc-e6b4-41a9-dd06-94660d21aaac"
      },
      "source": [
        "# Use our pattern to search a string that contains Oakville but not explicitly oak\n",
        "x = re.search(oak_pattern, \"This tremendous 100% varietal wine hails from Oakville.\")\n",
        "\n",
        "# If a match is found, let us know!\n",
        "if x:\n",
        "    print(\"Yes, an oak match!\")\n",
        "else:\n",
        "    print(\"No, oak isn't here!\")"
      ],
      "execution_count": null,
      "outputs": [
        {
          "output_type": "stream",
          "text": [
            "No, oak isn't here!\n"
          ],
          "name": "stdout"
        }
      ]
    },
    {
      "cell_type": "code",
      "metadata": {
        "id": "_kCtg2Pljq-7",
        "colab_type": "code",
        "colab": {
          "base_uri": "https://localhost:8080/",
          "height": 34
        },
        "outputId": "c3d09c57-6f2b-4c8d-a0f6-f785fb1b3df8"
      },
      "source": [
        "# Use our pattern to search a string that contains a reference to something being 'oaky'\n",
        "x = re.search(oak_pattern, \"This tremendous wine is oaky.\")\n",
        "\n",
        "# If a match is found, let us know!\n",
        "if x:\n",
        "    print(\"Yes, an oak match!\")\n",
        "else:\n",
        "    print(\"No, oak isn't here!\")"
      ],
      "execution_count": null,
      "outputs": [
        {
          "output_type": "stream",
          "text": [
            "Yes, an oak match!\n"
          ],
          "name": "stdout"
        }
      ]
    },
    {
      "cell_type": "code",
      "metadata": {
        "id": "xjAKl7pFjq--",
        "colab_type": "code",
        "colab": {
          "base_uri": "https://localhost:8080/",
          "height": 35
        },
        "outputId": "8203518c-c765-42ed-c597-f9d41fc1f12e"
      },
      "source": [
        "# View the first (and only) match\n",
        "x[0]"
      ],
      "execution_count": null,
      "outputs": [
        {
          "output_type": "execute_result",
          "data": {
            "application/vnd.google.colaboratory.intrinsic": {
              "type": "string"
            },
            "text/plain": [
              "' oaky'"
            ]
          },
          "metadata": {
            "tags": []
          },
          "execution_count": 27
        }
      ]
    },
    {
      "cell_type": "markdown",
      "metadata": {
        "id": "EjCyK9AJjq_B",
        "colab_type": "text"
      },
      "source": [
        "**Filtering the DataFrame using regex to find interesting patterns**\n",
        "---\n",
        "Now that we have a functioning pattern, we can use it to gain insights about the oakiness of wines. First, we use our pattern to filter the DataFrame, again using `str.contains()`, but this time using a regular expression.\n",
        "\n",
        "We can assign this filtered DataFrame to a new one, titled `oak_wines`, which we can use for further analyses. Let's also call `.head()` to do a sense check on the new DataFrame."
      ]
    },
    {
      "cell_type": "code",
      "metadata": {
        "id": "yD1SqAO4jq_B",
        "colab_type": "code",
        "colab": {},
        "outputId": "d97f918f-bad8-4635-f142-89e568ff74ae"
      },
      "source": [
        "# Filter our DataFrame for descriptions matching our pattern, and assign to `oak_wines`\n",
        "oak_wines = wine_df[wine_df['description'].str.contains(oak_pattern)]\n",
        "\n",
        "# View the first five rows of our new DataFrame\n",
        "oak_wines.head()"
      ],
      "execution_count": null,
      "outputs": [
        {
          "output_type": "stream",
          "text": [
            "/Users/justin/opt/anaconda3/lib/python3.7/site-packages/pandas/core/strings.py:1843: UserWarning: This pattern has match groups. To actually get the groups, use str.extract.\n",
            "  return func(self, *args, **kwargs)\n"
          ],
          "name": "stderr"
        },
        {
          "output_type": "execute_result",
          "data": {
            "text/html": [
              "<div>\n",
              "<style scoped>\n",
              "    .dataframe tbody tr th:only-of-type {\n",
              "        vertical-align: middle;\n",
              "    }\n",
              "\n",
              "    .dataframe tbody tr th {\n",
              "        vertical-align: top;\n",
              "    }\n",
              "\n",
              "    .dataframe thead th {\n",
              "        text-align: right;\n",
              "    }\n",
              "</style>\n",
              "<table border=\"1\" class=\"dataframe\">\n",
              "  <thead>\n",
              "    <tr style=\"text-align: right;\">\n",
              "      <th></th>\n",
              "      <th>country</th>\n",
              "      <th>description</th>\n",
              "      <th>designation</th>\n",
              "      <th>points</th>\n",
              "      <th>price</th>\n",
              "      <th>province</th>\n",
              "      <th>region</th>\n",
              "      <th>variety</th>\n",
              "      <th>winery</th>\n",
              "      <th>location</th>\n",
              "    </tr>\n",
              "  </thead>\n",
              "  <tbody>\n",
              "    <tr>\n",
              "      <td>0</td>\n",
              "      <td>US</td>\n",
              "      <td>This tremendous 100% varietal wine hails from Oakville and was aged over three years in oak. Juicy red-cherry fruit and a compelling hint of caramel greet the palate, framed by elegant, fine tannins and a subtle minty tone in the background. Balanced and rewarding from start to finish, it has years ahead of it to develop further nuance. Enjoy 2022–2030.</td>\n",
              "      <td>Martha's Vineyard</td>\n",
              "      <td>96</td>\n",
              "      <td>235.0</td>\n",
              "      <td>California</td>\n",
              "      <td>Napa Valley</td>\n",
              "      <td>cabernet sauvignon</td>\n",
              "      <td>Heitz</td>\n",
              "      <td>Napa Valley - US</td>\n",
              "    </tr>\n",
              "    <tr>\n",
              "      <td>2</td>\n",
              "      <td>US</td>\n",
              "      <td>This spent 20 months in 30% new French oak, and incorporates fruit from Ponzi's Aurora, Abetina and Madrona vineyards, among others. Aromatic, dense and toasty, it deftly blends aromas and flavors of toast, cigar box, blackberry, black cherry, coffee and graphite. Tannins are polished to a fine sheen, and frame a finish loaded with dark chocolate and espresso. Drink now through 2032.</td>\n",
              "      <td>Reserve</td>\n",
              "      <td>96</td>\n",
              "      <td>65.0</td>\n",
              "      <td>Oregon</td>\n",
              "      <td>Willamette Valley</td>\n",
              "      <td>pinot noir</td>\n",
              "      <td>Ponzi</td>\n",
              "      <td>Willamette Valley - US</td>\n",
              "    </tr>\n",
              "    <tr>\n",
              "      <td>9</td>\n",
              "      <td>US</td>\n",
              "      <td>This blockbuster, powerhouse of a wine suggests blueberry pie and chocolate as it opens in the glass. On the palate, it's smooth and seductively silky, offering complex cedar, peppercorn and peppery oak seasonings amidst its dense richness. It finishes with finesse and spice.</td>\n",
              "      <td>Rainin Vineyard</td>\n",
              "      <td>95</td>\n",
              "      <td>325.0</td>\n",
              "      <td>California</td>\n",
              "      <td>Diamond Mountain District</td>\n",
              "      <td>cabernet sauvignon</td>\n",
              "      <td>Hall</td>\n",
              "      <td>Diamond Mountain District - US</td>\n",
              "    </tr>\n",
              "    <tr>\n",
              "      <td>14</td>\n",
              "      <td>US</td>\n",
              "      <td>Focused and dense, this intense wine captures the essence of ripe raspberries. Aged in 50% new French oak, it's got a strong vein of coffee and mocha. The flavors broaden out and penetrate, finishing with highlights of cedar, cinnamon and dark chocolate. Drink now through the 2020s, but decant if you want the full expression.</td>\n",
              "      <td>Abetina</td>\n",
              "      <td>94</td>\n",
              "      <td>105.0</td>\n",
              "      <td>Oregon</td>\n",
              "      <td>Willamette Valley</td>\n",
              "      <td>pinot noir</td>\n",
              "      <td>Ponzi</td>\n",
              "      <td>Willamette Valley - US</td>\n",
              "    </tr>\n",
              "    <tr>\n",
              "      <td>17</td>\n",
              "      <td>US</td>\n",
              "      <td>Steely and perfumed, this wine sees only 20% new French oak, remaining vibrantly fresh. Baked apple and lemon pith veer into grapefruit on the palate, with spiciness to the finish that's both brash and loud.</td>\n",
              "      <td>Babushka</td>\n",
              "      <td>90</td>\n",
              "      <td>37.0</td>\n",
              "      <td>California</td>\n",
              "      <td>Russian River Valley</td>\n",
              "      <td>chardonnay</td>\n",
              "      <td>Zepaltas</td>\n",
              "      <td>Russian River Valley - US</td>\n",
              "    </tr>\n",
              "  </tbody>\n",
              "</table>\n",
              "</div>"
            ],
            "text/plain": [
              "   country  \\\n",
              "0   US       \n",
              "2   US       \n",
              "9   US       \n",
              "14  US       \n",
              "17  US       \n",
              "\n",
              "                                                                                                                                                                                                                                                                                                                                                                                           description  \\\n",
              "0   This tremendous 100% varietal wine hails from Oakville and was aged over three years in oak. Juicy red-cherry fruit and a compelling hint of caramel greet the palate, framed by elegant, fine tannins and a subtle minty tone in the background. Balanced and rewarding from start to finish, it has years ahead of it to develop further nuance. Enjoy 2022–2030.                                  \n",
              "2   This spent 20 months in 30% new French oak, and incorporates fruit from Ponzi's Aurora, Abetina and Madrona vineyards, among others. Aromatic, dense and toasty, it deftly blends aromas and flavors of toast, cigar box, blackberry, black cherry, coffee and graphite. Tannins are polished to a fine sheen, and frame a finish loaded with dark chocolate and espresso. Drink now through 2032.   \n",
              "9   This blockbuster, powerhouse of a wine suggests blueberry pie and chocolate as it opens in the glass. On the palate, it's smooth and seductively silky, offering complex cedar, peppercorn and peppery oak seasonings amidst its dense richness. It finishes with finesse and spice.                                                                                                                 \n",
              "14  Focused and dense, this intense wine captures the essence of ripe raspberries. Aged in 50% new French oak, it's got a strong vein of coffee and mocha. The flavors broaden out and penetrate, finishing with highlights of cedar, cinnamon and dark chocolate. Drink now through the 2020s, but decant if you want the full expression.                                                              \n",
              "17  Steely and perfumed, this wine sees only 20% new French oak, remaining vibrantly fresh. Baked apple and lemon pith veer into grapefruit on the palate, with spiciness to the finish that's both brash and loud.                                                                                                                                                                                      \n",
              "\n",
              "          designation  points  price    province                     region  \\\n",
              "0   Martha's Vineyard  96      235.0  California  Napa Valley                 \n",
              "2   Reserve            96      65.0   Oregon      Willamette Valley           \n",
              "9   Rainin Vineyard    95      325.0  California  Diamond Mountain District   \n",
              "14  Abetina            94      105.0  Oregon      Willamette Valley           \n",
              "17  Babushka           90      37.0   California  Russian River Valley        \n",
              "\n",
              "               variety    winery                        location  \n",
              "0   cabernet sauvignon  Heitz     Napa Valley - US                \n",
              "2   pinot noir          Ponzi     Willamette Valley - US          \n",
              "9   cabernet sauvignon  Hall      Diamond Mountain District - US  \n",
              "14  pinot noir          Ponzi     Willamette Valley - US          \n",
              "17  chardonnay          Zepaltas  Russian River Valley - US       "
            ]
          },
          "metadata": {
            "tags": []
          },
          "execution_count": 27
        }
      ]
    },
    {
      "cell_type": "markdown",
      "metadata": {
        "id": "2l_iP-Z5jq_F",
        "colab_type": "text"
      },
      "source": [
        "### **Performing some comparisons**\n",
        "Wonderful! Now, let's start to get an idea of the ratios of oakiness between varieties of wines. Let's start by grouping our two DataFrames, `oak_wines` and `wine_df` by the variety and counting the number of references.\n",
        "\n",
        "To do so, we will use:\n",
        "- `.groupby()` to group by the `variety`.\n",
        "- `.count()` to aggregate by the count of different wines.\n",
        "- `.sort_index()` so that we have an alphabetically sorted index to use for plotting."
      ]
    },
    {
      "cell_type": "code",
      "metadata": {
        "id": "vVb9qgarjq_G",
        "colab_type": "code",
        "colab": {},
        "outputId": "27b714d0-8eba-4233-ed08-0acde1359017"
      },
      "source": [
        "# Group our oak DataFrame by variety, count it, and sort the index in descending alphabetical order\n",
        "oak_grouped = oak_wines.groupby('variety').count()['country'].sort_index(ascending=False)\n",
        "\n",
        "# Group our original DataFrame by variety, count it, and sort the index in descending alphabetical order\n",
        "wine_grouped = wine_df.groupby('variety').count()['country'].sort_index(ascending=False)\n",
        "\n",
        "# Display the two grouped DataFrames\n",
        "print(oak_grouped)\n",
        "print(wine_grouped)"
      ],
      "execution_count": null,
      "outputs": [
        {
          "output_type": "stream",
          "text": [
            "variety\n",
            "syrah                       27 \n",
            "sauvignon blanc             23 \n",
            "riesling                    5  \n",
            "red blend                   97 \n",
            "pinot noir                  172\n",
            "merlot                      35 \n",
            "chardonnay                  175\n",
            "cabernet sauvignon          165\n",
            "bordeaux-style red blend    21 \n",
            "Name: country, dtype: int64\n",
            "variety\n",
            "syrah                       237 \n",
            "sauvignon blanc             291 \n",
            "riesling                    202 \n",
            "red blend                   536 \n",
            "pinot noir                  1033\n",
            "merlot                      149 \n",
            "chardonnay                  696 \n",
            "cabernet sauvignon          527 \n",
            "bordeaux-style red blend    460 \n",
            "Name: country, dtype: int64\n"
          ],
          "name": "stdout"
        }
      ]
    },
    {
      "cell_type": "markdown",
      "metadata": {
        "id": "N5TnmHL0jq_J",
        "colab_type": "text"
      },
      "source": [
        "### **Plot our ratios**\n",
        "Let's start by doing a simple plot of the grouped DataFrames. By overlaying the `oak_grouped` data over the `wine_grouped` data, we can get a rough visualization of the ratios of oaky wines. To do this, we will use `matplotlib.pyplot.barh` to make two horizontal barplots."
      ]
    },
    {
      "cell_type": "code",
      "metadata": {
        "id": "-95nUNyTjq_J",
        "colab_type": "code",
        "colab": {},
        "outputId": "190fefd7-7341-4cb7-b70e-4845a23464f9"
      },
      "source": [
        "# Plot a horizontal bar chart of the count of varieties in 'lightsalmon'\n",
        "plt.barh(wine_grouped.index.values, wine_grouped, color='lightsalmon')\n",
        "\n",
        "# Plot a horizontal bar chart of the count of oaky varieties in 'firebrick'\n",
        "plt.barh(oak_grouped.index.values, oak_grouped, color='firebrick')\n",
        "\n",
        "# Give the plot a title\n",
        "plt.title(\"Oak Wine Counts by Variety\")\n",
        "\n",
        "# Show the plot\n",
        "plt.show()"
      ],
      "execution_count": null,
      "outputs": [
        {
          "output_type": "display_data",
          "data": {
            "image/png": "[encoded data removed]",
            "text/plain": [
              "<Figure size 432x288 with 1 Axes>"
            ]
          },
          "metadata": {
            "tags": [],
            "needs_background": "light"
          }
        }
      ]
    },
    {
      "cell_type": "markdown",
      "metadata": {
        "id": "H77iMr4mjq_N",
        "colab_type": "text"
      },
      "source": [
        "### **Calculate ratios**\n",
        "Clearly there are some varieties that are more likely to be described as oaky than others. Let's create a Boolean (True/False) column called `'oaky'` using our pattern, and then use a `groupby()` to calculate the percentage of each variety that is described as oaky.\n",
        "\n",
        "**Note:** When calculating the `.mean()` of a Boolean column, `pandas` treats True as 1 and False as 0."
      ]
    },
    {
      "cell_type": "code",
      "metadata": {
        "id": "G3SaaiaKjq_N",
        "colab_type": "code",
        "colab": {},
        "outputId": "1c870257-605f-4ee1-b7c0-fcf9e466ab51"
      },
      "source": [
        "# Generate a new Boolean column based on whether the review contains 'oak'\n",
        "wine_df['oaky'] = wine_df['description'].str.contains(oak_pattern)\n",
        "\n",
        "# Group the DataFrame by variety, take the mean, and select the 'oaky' column\n",
        "oak_freq = wine_df.groupby('variety').mean()['oaky'].sort_values()\n",
        "\n",
        "# View the resulting percentages\n",
        "oak_freq"
      ],
      "execution_count": null,
      "outputs": [
        {
          "output_type": "execute_result",
          "data": {
            "text/plain": [
              "variety\n",
              "riesling                    0.024752\n",
              "bordeaux-style red blend    0.045652\n",
              "sauvignon blanc             0.079038\n",
              "syrah                       0.113924\n",
              "pinot noir                  0.166505\n",
              "red blend                   0.180970\n",
              "merlot                      0.234899\n",
              "chardonnay                  0.251437\n",
              "cabernet sauvignon          0.313093\n",
              "Name: oaky, dtype: float64"
            ]
          },
          "metadata": {
            "tags": []
          },
          "execution_count": 36
        }
      ]
    },
    {
      "cell_type": "code",
      "metadata": {
        "id": "NMhAeFfyjq_S",
        "colab_type": "code",
        "colab": {},
        "outputId": "076bfcc3-f776-4cd8-bb41-5d7f93a4ca54"
      },
      "source": [
        "# Create another horizontal bar plot of the frequencies\n",
        "plt.barh(oak_freq.index, oak_freq)\n",
        "\n",
        "# Title the plot\n",
        "plt.title(\"Wines by level of Oakiness\")\n",
        "\n",
        "# Show the plot\n",
        "plt.show()"
      ],
      "execution_count": null,
      "outputs": [
        {
          "output_type": "display_data",
          "data": {
            "image/png": "[encoded data removed]",
            "text/plain": [
              "<Figure size 432x288 with 1 Axes>"
            ]
          },
          "metadata": {
            "tags": [],
            "needs_background": "light"
          }
        }
      ]
    },
    {
      "cell_type": "markdown",
      "metadata": {
        "id": "d7JtHhKcjq_W",
        "colab_type": "text"
      },
      "source": [
        "**Finally, let's produce some replicable output!**\n",
        "---\n",
        "Let's create some variables from our filtered datasets, and use these to write a replicable expression that adapts based on new data. We can generate some simple summaries using:\n",
        "- `len()` to find the length of the two DataFrames.\n",
        "- `.idmax()` to return the index of the row with the highest value (i.e. the wine with the highest oaky percentage)."
      ]
    },
    {
      "cell_type": "code",
      "metadata": {
        "id": "QQKGop0kjq_X",
        "colab_type": "code",
        "colab": {}
      },
      "source": [
        "# Count the number of rows in the two DataFrames\n",
        "oak_num = len(oak_wines)\n",
        "wine_num = len(wine_df)\n",
        "\n",
        "# Select the wine with the highest percentage of oakiness\n",
        "oak_wine = oak_freq.idxmax()"
      ],
      "execution_count": null,
      "outputs": []
    },
    {
      "cell_type": "markdown",
      "metadata": {
        "id": "SPyG3yNPjq_a",
        "colab_type": "text"
      },
      "source": [
        "### **Using F strings**\n",
        "Okay, now let's embed our three variables into an fstring. Fstrings allow us to insert our variables into strings using curly brackets `{}`. We simply need to add an `f` as a prefix to our string and call it inside a print function.\n",
        "\n",
        "We now have a simple and dynamic summary of our data!"
      ]
    },
    {
      "cell_type": "code",
      "metadata": {
        "id": "hTn_Vz6_jq_b",
        "colab_type": "code",
        "colab": {},
        "outputId": "c1203f6c-0d9b-41b4-8b2a-9593b7ceba4e"
      },
      "source": [
        "print(f\"There were {oak_num} mentions of 'oak' from amongst {wine_num} reviews. The most oaky wine was {oak_wine}.\")"
      ],
      "execution_count": null,
      "outputs": [
        {
          "output_type": "stream",
          "text": [
            "There were 720 mentions of 'oak' from amongst 4131 reviews. The most oaky wine was cabernet sauvignon.\n"
          ],
          "name": "stdout"
        }
      ]
    },
    {
      "cell_type": "code",
      "metadata": {
        "id": "SYAK1okBjq_e",
        "colab_type": "code",
        "colab": {},
        "outputId": "6e4f4b93-cebf-451e-9ad6-cded6c4ca003"
      },
      "source": [
        "oak_num = 834\n",
        "wine_num = 5103\n",
        "oak_wine = 'chardonnay'\n",
        "\n",
        "print(f\"There were {oak_num} mentions of 'oak' from amongst {wine_num} reviews. The most oaky wine was {oak_wine}.\")"
      ],
      "execution_count": null,
      "outputs": [
        {
          "output_type": "stream",
          "text": [
            "There were 834 mentions of 'oak' from amongst 5103 reviews. The most oaky wine was chardonnay.\n"
          ],
          "name": "stdout"
        }
      ]
    },
    {
      "cell_type": "markdown",
      "metadata": {
        "id": "-ycprbl9jq_i",
        "colab_type": "text"
      },
      "source": [
        "## **What's next?**\n",
        "Now that you have started your Pythonic-text journey, there are a variety of more advanced topics for you to tackle!"
      ]
    },
    {
      "cell_type": "markdown",
      "metadata": {
        "id": "lkJOhU6wjq_j",
        "colab_type": "text"
      },
      "source": [
        "<a href = \"https://learn.datacamp.com/courses/regular-expressions-in-python\"><img src = \"https://assets.datacamp.com/production/course_17118/shields/original/shield_image_course_17118_20200109-1-1b7rdip?1578597449\" width=100pt align=left></a><br><br>&nbsp;&nbsp;&nbsp;**Further Experience with Regular Expressions**"
      ]
    },
    {
      "cell_type": "markdown",
      "metadata": {
        "id": "cucS12-9jq_j",
        "colab_type": "text"
      },
      "source": [
        "<a href = \"https://learn.datacamp.com/courses/sentiment-analysis-in-python\"><img src = \"https://assets.datacamp.com/production/course_16852/shields/original/shield_image_course_16852_20190816-1-1drnml4?1565953559\" width=100pt align=left></a><br><br>&nbsp;&nbsp;&nbsp;**Sentiment Analysis**"
      ]
    },
    {
      "cell_type": "markdown",
      "metadata": {
        "id": "7IAxZ7F_jq_k",
        "colab_type": "text"
      },
      "source": [
        "<a href = \"https://learn.datacamp.com/courses/feature-engineering-for-machine-learning-in-python\"><img src = \"https://assets.datacamp.com/production/course_14336/shields/original/shield_image_course_14336_20190428-1-1s1qt3h?1556485075\" width=100pt align=left></a><br><br>&nbsp;&nbsp;&nbsp;**Feature Engineering for Machine Learning**"
      ]
    },
    {
      "cell_type": "markdown",
      "metadata": {
        "id": "DpmSre25jq_k",
        "colab_type": "text"
      },
      "source": [
        "<a href = \"https://learn.datacamp.com/courses/introduction-to-natural-language-processing-in-python\"><img src = \"https://assets.datacamp.com/production/course_3629/shields/original/shield_image_course_3629_20200424-1-1jg2tak?1587716990\" width=100pt align=left></a><br><br>&nbsp;&nbsp;&nbsp;**Natural Language Processing**"
      ]
    },
    {
      "cell_type": "code",
      "metadata": {
        "id": "4nRgZsg1jq_l",
        "colab_type": "code",
        "colab": {}
      },
      "source": [
        ""
      ],
      "execution_count": null,
      "outputs": []
    }
  ]
}